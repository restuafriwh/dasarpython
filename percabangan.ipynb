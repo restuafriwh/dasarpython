{
  "nbformat": 4,
  "nbformat_minor": 0,
  "metadata": {
    "colab": {
      "provenance": [],
      "authorship_tag": "ABX9TyNoq3bINMrgwRcY6W3y6/D0",
      "include_colab_link": true
    },
    "kernelspec": {
      "name": "python3",
      "display_name": "Python 3"
    },
    "language_info": {
      "name": "python"
    }
  },
  "cells": [
    {
      "cell_type": "markdown",
      "metadata": {
        "id": "view-in-github",
        "colab_type": "text"
      },
      "source": [
        "<a href=\"https://colab.research.google.com/github/rstvwxyz/dasarpython/blob/main/percabangan.ipynb\" target=\"_parent\"><img src=\"https://colab.research.google.com/assets/colab-badge.svg\" alt=\"Open In Colab\"/></a>"
      ]
    },
    {
      "cell_type": "code",
      "execution_count": 8,
      "metadata": {
        "colab": {
          "base_uri": "https://localhost:8080/"
        },
        "id": "cVTQmKygIdvl",
        "outputId": "9c5f14e3-b832-4679-ffea-98332b5919ed"
      },
      "outputs": [
        {
          "name": "stdout",
          "output_type": "stream",
          "text": [
            "Masukkan angka -8\n"
          ]
        }
      ],
      "source": [
        "# percabangan if\n",
        "angka = int(input(\"Masukkan angka \"))\n",
        "if angka > 0:\n",
        "  print(angka, \"adalah bilangan positif\")"
      ]
    },
    {
      "cell_type": "code",
      "source": [
        "# percabangan if ... else\n",
        "angka = int(input(\"Masukkan angka \"))\n",
        "if angka > 0:\n",
        "  print(angka, \"adalah bilangan positif\")\n",
        "else:\n",
        "   print(angka, \"adalah bilangan negatif\")"
      ],
      "metadata": {
        "id": "oNg_TeImL09y"
      },
      "execution_count": null,
      "outputs": []
    },
    {
      "cell_type": "code",
      "source": [
        "# percabangan if .. elif .. else\n",
        "usia = int(input(\"Masukkan usia Anda \"))\n",
        "\n",
        "if usia<=5:\n",
        "  print(\"Masa Batita\")\n",
        "elif usia<=12:\n",
        "  print(\"Masa Anak-anak\")\n",
        "elif usia<=17:\n",
        "  print(\"Masa Remaja Awal\")\n",
        "elif usia<=25:\n",
        "  print(\"Masa Remaja Akhir\")\n",
        "elif usia<=60:\n",
        "  print(\"Masa Dewasa\")\n",
        "else:\n",
        "  print(\"Masa Lansia\")"
      ],
      "metadata": {
        "colab": {
          "base_uri": "https://localhost:8080/"
        },
        "id": "H57KRMdnMQAq",
        "outputId": "26a33772-8557-441f-dc58-826c65216ccf"
      },
      "execution_count": 10,
      "outputs": [
        {
          "output_type": "stream",
          "name": "stdout",
          "text": [
            "Masukkan usia Anda 27\n",
            "Masa Dewasa\n"
          ]
        }
      ]
    },
    {
      "cell_type": "code",
      "source": [
        "nilai = int(input('Masukkan nilai: '))\n",
        "\n",
        "if nilai >= 90:\n",
        "  print('Predikat A')\n",
        "elif nilai >= 80:\n",
        "  print('Predikat B')\n",
        "elif nilai >= 60:\n",
        "  print('Predikat C')\n",
        "elif nilai >= 40:\n",
        "  print('Predikat D')\n",
        "else:\n",
        "  print('Predikat E')"
      ],
      "metadata": {
        "colab": {
          "base_uri": "https://localhost:8080/"
        },
        "id": "PB3a6tFmT81j",
        "outputId": "aa2e88ff-6578-47d6-ef7b-2a72512993ce"
      },
      "execution_count": 11,
      "outputs": [
        {
          "output_type": "stream",
          "name": "stdout",
          "text": [
            "Masukkan nilai: 40\n",
            "Predikat D\n"
          ]
        }
      ]
    },
    {
      "cell_type": "code",
      "source": [
        "# percabangan if .. elif .. else\n",
        "beratbadan = float(input(\"Masukkan IMT Anda : \"))\n",
        "\n",
        "if beratbadan >= 30:\n",
        "  print(\"Obesitas\")\n",
        "elif beratbadan >= 25:\n",
        "  print(\"Berat Badan Berlebih\")\n",
        "elif beratbadan >= 18.5:\n",
        "  print(\"Berat Badan Normal\")\n",
        "else:\n",
        "  print(\"Berat Badan di bawah Normal\")"
      ],
      "metadata": {
        "colab": {
          "base_uri": "https://localhost:8080/"
        },
        "id": "p6DLGEu6S7SL",
        "outputId": "c045a465-b177-4de2-9723-8ffcb4823bb9"
      },
      "execution_count": 18,
      "outputs": [
        {
          "output_type": "stream",
          "name": "stdout",
          "text": [
            "Masukkan IMT Anda : 17.6\n",
            "Berat Badan di bawah Normal\n"
          ]
        }
      ]
    },
    {
      "cell_type": "code",
      "source": [],
      "metadata": {
        "id": "nhdhbktZUgJa"
      },
      "execution_count": null,
      "outputs": []
    }
  ]
}