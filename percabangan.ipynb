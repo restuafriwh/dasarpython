{
  "nbformat": 4,
  "nbformat_minor": 0,
  "metadata": {
    "colab": {
      "provenance": [],
      "authorship_tag": "ABX9TyM/vn0IGE1Dui2BsTKRkr+T",
      "include_colab_link": true
    },
    "kernelspec": {
      "name": "python3",
      "display_name": "Python 3"
    },
    "language_info": {
      "name": "python"
    }
  },
  "cells": [
    {
      "cell_type": "markdown",
      "metadata": {
        "id": "view-in-github",
        "colab_type": "text"
      },
      "source": [
        "<a href=\"https://colab.research.google.com/github/rstvwxyz/dasarpython/blob/main/percabangan.ipynb\" target=\"_parent\"><img src=\"https://colab.research.google.com/assets/colab-badge.svg\" alt=\"Open In Colab\"/></a>"
      ]
    },
    {
      "cell_type": "code",
      "execution_count": null,
      "metadata": {
        "colab": {
          "base_uri": "https://localhost:8080/"
        },
        "id": "cVTQmKygIdvl",
        "outputId": "9c5f14e3-b832-4679-ffea-98332b5919ed"
      },
      "outputs": [
        {
          "name": "stdout",
          "output_type": "stream",
          "text": [
            "Masukkan angka -8\n"
          ]
        }
      ],
      "source": [
        "# percabangan if\n",
        "angka = int(input(\"Masukkan angka \"))\n",
        "if angka > 0:\n",
        "  print(angka, \"adalah bilangan positif\")"
      ]
    },
    {
      "cell_type": "code",
      "source": [
        "# percabangan if ... else\n",
        "angka = int(input(\"Masukkan angka \"))\n",
        "if angka > 0:\n",
        "  print(angka, \"adalah bilangan positif\")\n",
        "else:\n",
        "   print(angka, \"adalah bilangan negatif\")"
      ],
      "metadata": {
        "id": "oNg_TeImL09y"
      },
      "execution_count": null,
      "outputs": []
    },
    {
      "cell_type": "code",
      "source": [
        "bil1 = int(input(\"Masukkan bil1 : \"))\n",
        "bil2 = int(input(\"Masukkan bil2 : \"))\n",
        "\n",
        "if bil1 > bil2:\n",
        "  print(bil1, \"lebih besar dari\", bil2)\n",
        "else:\n",
        "   print(bil2, \"lebih kecil dari\", bil1)"
      ],
      "metadata": {
        "colab": {
          "base_uri": "https://localhost:8080/"
        },
        "id": "idDY514wdFZt",
        "outputId": "6b2617d9-81d3-4920-9f05-91121e4e0939"
      },
      "execution_count": 3,
      "outputs": [
        {
          "output_type": "stream",
          "name": "stdout",
          "text": [
            "Masukkan bil1 : 20\n",
            "Masukkan bil2 : 10\n",
            "20 lebih besar dari 10\n"
          ]
        }
      ]
    },
    {
      "cell_type": "code",
      "source": [
        "bil1 = int(input(\"Masukkan bil1 : \"))\n",
        "bil2 = int(input(\"Masukkan bil2 : \"))\n",
        "\n",
        "if bil1 > bil2:\n",
        "  print(\"bilangan\", bil1, \"lebih besar dari bilangan\", bil2)\n",
        "elif bil1 < bil2:\n",
        "  print(\"bilangan\", bil1, \"lebih kecil dari bilangan\", bil2)\n",
        "else:\n",
        "   print(\"bilangan\", bil1, \"sama dengan bilangan\", bil2)"
      ],
      "metadata": {
        "colab": {
          "base_uri": "https://localhost:8080/"
        },
        "id": "DPQHa7-Fdx_C",
        "outputId": "372218df-b789-4573-c425-07215f74eb49"
      },
      "execution_count": 8,
      "outputs": [
        {
          "output_type": "stream",
          "name": "stdout",
          "text": [
            "Masukkan bil1 : 23\n",
            "Masukkan bil2 : 23\n",
            "bilangan 23 sama dengan bilangan 23\n"
          ]
        }
      ]
    },
    {
      "cell_type": "code",
      "source": [
        "# percabangan if .. elif .. else\n",
        "usia = int(input(\"Masukkan usia Anda \"))\n",
        "\n",
        "if usia<=5:\n",
        "  print(\"Masa Batita\")\n",
        "elif usia<=12:\n",
        "  print(\"Masa Anak-anak\")\n",
        "elif usia<=17:\n",
        "  print(\"Masa Remaja Awal\")\n",
        "elif usia<=25:\n",
        "  print(\"Masa Remaja Akhir\")\n",
        "elif usia<=60:\n",
        "  print(\"Masa Dewasa\")\n",
        "else:\n",
        "  print(\"Masa Lansia\")"
      ],
      "metadata": {
        "colab": {
          "base_uri": "https://localhost:8080/"
        },
        "id": "H57KRMdnMQAq",
        "outputId": "26a33772-8557-441f-dc58-826c65216ccf"
      },
      "execution_count": null,
      "outputs": [
        {
          "output_type": "stream",
          "name": "stdout",
          "text": [
            "Masukkan usia Anda 27\n",
            "Masa Dewasa\n"
          ]
        }
      ]
    },
    {
      "cell_type": "code",
      "source": [
        "# percabangan bertingkat\n",
        "nilai = int(input('Masukkan nilai: '))\n",
        "usia = int(input('Masukkan usia: '))\n",
        "\n",
        "if nilai >= 75:\n",
        "  if (usia < 15):\n",
        "    print('Selamat adek, kamu lulus!')\n",
        "  else:\n",
        "    print('Selamat kakak, kamu lulus!')\n",
        "else:\n",
        "  if (usia < 15):\n",
        "    print('Mohon maaf dek, coba lagi ya!')\n",
        "  else:\n",
        "    print('Mohon maaf kak, coba lagi ya!')"
      ],
      "metadata": {
        "colab": {
          "base_uri": "https://localhost:8080/"
        },
        "id": "TT_SiN7HVpI6",
        "outputId": "f6ac7e7a-618f-4039-950d-eb72c924b050"
      },
      "execution_count": null,
      "outputs": [
        {
          "output_type": "stream",
          "name": "stdout",
          "text": [
            "Masukkan nilai: 75\n",
            "Masukkan usia: 14\n",
            "Selamat adek, kamu lulus!\n"
          ]
        }
      ]
    },
    {
      "cell_type": "code",
      "source": [
        "#mencari angka terbesar\n",
        "a = int(input('Masukkan nilai a: '))\n",
        "b = int(input('Masukkan nilai b: '))\n",
        "c = int(input('Masukkan nilai c: '))\n",
        "\n",
        "if a > b and a > c:\n",
        "  print('A yang terbesar')\n",
        "elif b > a and b > c:\n",
        "  print('B yang terbesar')\n",
        "else:\n",
        "  print('C yang terbesar')"
      ],
      "metadata": {
        "colab": {
          "base_uri": "https://localhost:8080/"
        },
        "id": "F4OhJkKgYJux",
        "outputId": "c4fb282a-fc60-4063-af7a-b99e92b7d0dc"
      },
      "execution_count": null,
      "outputs": [
        {
          "output_type": "stream",
          "name": "stdout",
          "text": [
            "Masukkan nilai a: 4\n",
            "Masukkan nilai b: 90\n",
            "Masukkan nilai c: 30\n",
            "B yang terbesar\n"
          ]
        }
      ]
    },
    {
      "cell_type": "code",
      "source": [
        "a = int(input('Masukkan nilai a: '))\n",
        "b = int(input('Masukkan nilai b: '))\n",
        "c = int(input('Masukkan nilai c: '))\n",
        "\n",
        "if a < b and a < c:\n",
        "  print('A yang terkecil')\n",
        "elif b < a and b < c:\n",
        "  print('B yang terkecil')\n",
        "else:\n",
        "  print('C yang terkecil')"
      ],
      "metadata": {
        "colab": {
          "base_uri": "https://localhost:8080/"
        },
        "id": "j_VSg9XSYsBL",
        "outputId": "b383f7ec-40c3-4201-d24a-fafaf3bce9b0"
      },
      "execution_count": null,
      "outputs": [
        {
          "output_type": "stream",
          "name": "stdout",
          "text": [
            "Masukkan nilai a: 19\n",
            "Masukkan nilai b: 45\n",
            "Masukkan nilai c: 2\n",
            "C yang terkecil\n"
          ]
        }
      ]
    },
    {
      "cell_type": "code",
      "source": [
        "nilai = int(input('Masukkan nilai: '))\n",
        "\n",
        "if nilai >= 90:\n",
        "  print('Predikat A')\n",
        "elif nilai >= 80:\n",
        "  print('Predikat B')\n",
        "elif nilai >= 60:\n",
        "  print('Predikat C')\n",
        "elif nilai >= 40:\n",
        "  print('Predikat D')\n",
        "else:\n",
        "  print('Predikat E')"
      ],
      "metadata": {
        "colab": {
          "base_uri": "https://localhost:8080/"
        },
        "id": "PB3a6tFmT81j",
        "outputId": "aa2e88ff-6578-47d6-ef7b-2a72512993ce"
      },
      "execution_count": null,
      "outputs": [
        {
          "output_type": "stream",
          "name": "stdout",
          "text": [
            "Masukkan nilai: 40\n",
            "Predikat D\n"
          ]
        }
      ]
    },
    {
      "cell_type": "code",
      "source": [
        "# percabangan if .. elif .. else\n",
        "imt = float(input(\"Masukkan IMT Anda : \"))\n",
        "\n",
        "if imt >= 30:\n",
        "  print(\"Obesitas\")\n",
        "elif imt >= 25:\n",
        "  print(\"Berat Badan Berlebih\")\n",
        "elif imt >= 18.5:\n",
        "  print(\"Berat Badan Normal\")\n",
        "else:\n",
        "  print(\"Berat Badan di bawah Normal\")"
      ],
      "metadata": {
        "colab": {
          "base_uri": "https://localhost:8080/"
        },
        "id": "p6DLGEu6S7SL",
        "outputId": "c045a465-b177-4de2-9723-8ffcb4823bb9"
      },
      "execution_count": null,
      "outputs": [
        {
          "output_type": "stream",
          "name": "stdout",
          "text": [
            "Masukkan IMT Anda : 17.6\n",
            "Berat Badan di bawah Normal\n"
          ]
        }
      ]
    },
    {
      "cell_type": "code",
      "source": [
        "# percabangan if .. elif .. else\n",
        "imt = float(input(\"Masukkan IMT Anda : \"))\n",
        "\n",
        "if (imt >= 30):\n",
        "  print(\"Obesitas\")\n",
        "elif (imt >=25) and (imt < 30):\n",
        "  print(\"Berat Badan Berlebih\")\n",
        "elif (imt >= 18.5) and (imt <25):\n",
        "  print(\"Berat Badan Normal\")\n",
        "else:\n",
        "  print(\"Berat Badan di bawah Normal\")"
      ],
      "metadata": {
        "id": "nhdhbktZUgJa",
        "colab": {
          "base_uri": "https://localhost:8080/"
        },
        "outputId": "ac9122e1-f591-4849-959d-5bb77ac71436"
      },
      "execution_count": 16,
      "outputs": [
        {
          "output_type": "stream",
          "name": "stdout",
          "text": [
            "Masukkan IMT Anda : 34\n",
            "Obesitas\n"
          ]
        }
      ]
    }
  ]
}