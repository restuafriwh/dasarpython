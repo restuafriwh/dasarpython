{
  "nbformat": 4,
  "nbformat_minor": 0,
  "metadata": {
    "colab": {
      "provenance": [],
      "authorship_tag": "ABX9TyMGOCuT3FAIZhCD4Jw5r32d",
      "include_colab_link": true
    },
    "kernelspec": {
      "name": "python3",
      "display_name": "Python 3"
    },
    "language_info": {
      "name": "python"
    }
  },
  "cells": [
    {
      "cell_type": "markdown",
      "metadata": {
        "id": "view-in-github",
        "colab_type": "text"
      },
      "source": [
        "<a href=\"https://colab.research.google.com/github/rstvwxyz/dasarpython/blob/main/percabangan.ipynb\" target=\"_parent\"><img src=\"https://colab.research.google.com/assets/colab-badge.svg\" alt=\"Open In Colab\"/></a>"
      ]
    },
    {
      "cell_type": "code",
      "execution_count": null,
      "metadata": {
        "colab": {
          "base_uri": "https://localhost:8080/"
        },
        "id": "cVTQmKygIdvl",
        "outputId": "9c5f14e3-b832-4679-ffea-98332b5919ed"
      },
      "outputs": [
        {
          "name": "stdout",
          "output_type": "stream",
          "text": [
            "Masukkan angka -8\n"
          ]
        }
      ],
      "source": [
        "# percabangan if\n",
        "angka = int(input(\"Masukkan angka \"))\n",
        "if angka > 0:\n",
        "  print(angka, \"adalah bilangan positif\")"
      ]
    },
    {
      "cell_type": "code",
      "source": [
        "# percabangan if ... else\n",
        "angka = int(input(\"Masukkan angka \"))\n",
        "if angka > 0:\n",
        "  print(angka, \"adalah bilangan positif\")\n",
        "else:\n",
        "   print(angka, \"adalah bilangan negatif\")"
      ],
      "metadata": {
        "id": "oNg_TeImL09y"
      },
      "execution_count": null,
      "outputs": []
    },
    {
      "cell_type": "code",
      "source": [
        "bil1 = int(input(\"Masukkan bil1 : \"))\n",
        "bil2 = int(input(\"Masukkan bil2 : \"))\n",
        "\n",
        "if bil1 > bil2:\n",
        "  print(bil1, \"lebih besar dari\", bil2)\n",
        "else:\n",
        "   print(bil2, \"lebih kecil dari\", bil1)"
      ],
      "metadata": {
        "colab": {
          "base_uri": "https://localhost:8080/"
        },
        "id": "idDY514wdFZt",
        "outputId": "6b2617d9-81d3-4920-9f05-91121e4e0939"
      },
      "execution_count": null,
      "outputs": [
        {
          "output_type": "stream",
          "name": "stdout",
          "text": [
            "Masukkan bil1 : 20\n",
            "Masukkan bil2 : 10\n",
            "20 lebih besar dari 10\n"
          ]
        }
      ]
    },
    {
      "cell_type": "code",
      "source": [
        "bil1 = int(input(\"Masukkan bil1 : \"))\n",
        "bil2 = int(input(\"Masukkan bil2 : \"))\n",
        "\n",
        "if bil1 > bil2:\n",
        "  print(\"bilangan\", bil1, \"lebih besar dari bilangan\", bil2)\n",
        "elif bil1 < bil2:\n",
        "  print(\"bilangan\", bil1, \"lebih kecil dari bilangan\", bil2)\n",
        "else:\n",
        "   print(\"bilangan\", bil1, \"sama dengan bilangan\", bil2)"
      ],
      "metadata": {
        "colab": {
          "base_uri": "https://localhost:8080/"
        },
        "id": "DPQHa7-Fdx_C",
        "outputId": "372218df-b789-4573-c425-07215f74eb49"
      },
      "execution_count": null,
      "outputs": [
        {
          "output_type": "stream",
          "name": "stdout",
          "text": [
            "Masukkan bil1 : 23\n",
            "Masukkan bil2 : 23\n",
            "bilangan 23 sama dengan bilangan 23\n"
          ]
        }
      ]
    },
    {
      "cell_type": "code",
      "source": [
        "# percabangan if .. elif .. else\n",
        "usia = int(input(\"Masukkan usia Anda \"))\n",
        "\n",
        "if usia<=5:\n",
        "  print(\"Masa Batita\")\n",
        "elif usia<=12:\n",
        "  print(\"Masa Anak-anak\")\n",
        "elif usia<=17:\n",
        "  print(\"Masa Remaja Awal\")\n",
        "elif usia<=25:\n",
        "  print(\"Masa Remaja Akhir\")\n",
        "elif usia<=60:\n",
        "  print(\"Masa Dewasa\")\n",
        "else:\n",
        "  print(\"Masa Lansia\")"
      ],
      "metadata": {
        "colab": {
          "base_uri": "https://localhost:8080/"
        },
        "id": "H57KRMdnMQAq",
        "outputId": "26a33772-8557-441f-dc58-826c65216ccf"
      },
      "execution_count": null,
      "outputs": [
        {
          "output_type": "stream",
          "name": "stdout",
          "text": [
            "Masukkan usia Anda 27\n",
            "Masa Dewasa\n"
          ]
        }
      ]
    },
    {
      "cell_type": "code",
      "source": [
        "# percabangan bertingkat\n",
        "nilai = int(input('Masukkan nilai: '))\n",
        "usia = int(input('Masukkan usia: '))\n",
        "\n",
        "if nilai >= 75:\n",
        "  if (usia < 15):\n",
        "    print('Selamat adek, kamu lulus!')\n",
        "  else:\n",
        "    print('Selamat kakak, kamu lulus!')\n",
        "else:\n",
        "  if (usia < 15):\n",
        "    print('Mohon maaf dek, coba lagi ya!')\n",
        "  else:\n",
        "    print('Mohon maaf kak, coba lagi ya!')"
      ],
      "metadata": {
        "colab": {
          "base_uri": "https://localhost:8080/"
        },
        "id": "TT_SiN7HVpI6",
        "outputId": "f6ac7e7a-618f-4039-950d-eb72c924b050"
      },
      "execution_count": null,
      "outputs": [
        {
          "output_type": "stream",
          "name": "stdout",
          "text": [
            "Masukkan nilai: 75\n",
            "Masukkan usia: 14\n",
            "Selamat adek, kamu lulus!\n"
          ]
        }
      ]
    },
    {
      "cell_type": "code",
      "source": [
        "#mencari angka terbesar\n",
        "a = int(input('Masukkan nilai a: '))\n",
        "b = int(input('Masukkan nilai b: '))\n",
        "c = int(input('Masukkan nilai c: '))\n",
        "\n",
        "if a > b and a > c:\n",
        "  print('A yang terbesar')\n",
        "elif b > a and b > c:\n",
        "  print('B yang terbesar')\n",
        "else:\n",
        "  print('C yang terbesar')"
      ],
      "metadata": {
        "colab": {
          "base_uri": "https://localhost:8080/"
        },
        "id": "F4OhJkKgYJux",
        "outputId": "c4fb282a-fc60-4063-af7a-b99e92b7d0dc"
      },
      "execution_count": null,
      "outputs": [
        {
          "output_type": "stream",
          "name": "stdout",
          "text": [
            "Masukkan nilai a: 4\n",
            "Masukkan nilai b: 90\n",
            "Masukkan nilai c: 30\n",
            "B yang terbesar\n"
          ]
        }
      ]
    },
    {
      "cell_type": "code",
      "source": [
        "a = int(input('Masukkan nilai a: '))\n",
        "b = int(input('Masukkan nilai b: '))\n",
        "c = int(input('Masukkan nilai c: '))\n",
        "\n",
        "if a < b and a < c:\n",
        "  print('A yang terkecil')\n",
        "elif b < a and b < c:\n",
        "  print('B yang terkecil')\n",
        "else:\n",
        "  print('C yang terkecil')"
      ],
      "metadata": {
        "colab": {
          "base_uri": "https://localhost:8080/"
        },
        "id": "j_VSg9XSYsBL",
        "outputId": "b383f7ec-40c3-4201-d24a-fafaf3bce9b0"
      },
      "execution_count": null,
      "outputs": [
        {
          "output_type": "stream",
          "name": "stdout",
          "text": [
            "Masukkan nilai a: 19\n",
            "Masukkan nilai b: 45\n",
            "Masukkan nilai c: 2\n",
            "C yang terkecil\n"
          ]
        }
      ]
    },
    {
      "cell_type": "code",
      "source": [
        "nilai = int(input('Masukkan nilai: '))\n",
        "\n",
        "if nilai >= 90:\n",
        "  print('Predikat A')\n",
        "elif nilai >= 80:\n",
        "  print('Predikat B')\n",
        "elif nilai >= 60:\n",
        "  print('Predikat C')\n",
        "elif nilai >= 40:\n",
        "  print('Predikat D')\n",
        "else:\n",
        "  print('Predikat E')"
      ],
      "metadata": {
        "colab": {
          "base_uri": "https://localhost:8080/"
        },
        "id": "PB3a6tFmT81j",
        "outputId": "aa2e88ff-6578-47d6-ef7b-2a72512993ce"
      },
      "execution_count": null,
      "outputs": [
        {
          "output_type": "stream",
          "name": "stdout",
          "text": [
            "Masukkan nilai: 40\n",
            "Predikat D\n"
          ]
        }
      ]
    },
    {
      "cell_type": "code",
      "source": [
        "# percabangan if .. elif .. else\n",
        "imt = float(input(\"Masukkan IMT Anda : \"))\n",
        "\n",
        "if imt >= 30:\n",
        "  print(\"Obesitas\")\n",
        "elif imt >= 25:\n",
        "  print(\"Berat Badan Berlebih\")\n",
        "elif imt >= 18.5:\n",
        "  print(\"Berat Badan Normal\")\n",
        "else:\n",
        "  print(\"Berat Badan di bawah Normal\")"
      ],
      "metadata": {
        "colab": {
          "base_uri": "https://localhost:8080/"
        },
        "id": "p6DLGEu6S7SL",
        "outputId": "c045a465-b177-4de2-9723-8ffcb4823bb9"
      },
      "execution_count": null,
      "outputs": [
        {
          "output_type": "stream",
          "name": "stdout",
          "text": [
            "Masukkan IMT Anda : 17.6\n",
            "Berat Badan di bawah Normal\n"
          ]
        }
      ]
    },
    {
      "cell_type": "code",
      "source": [
        "# percabangan if .. elif .. else\n",
        "imt = float(input(\"Masukkan IMT Anda : \"))\n",
        "\n",
        "if (imt >= 30):\n",
        "  print(\"Obesitas\")\n",
        "elif (imt >=25) and (imt < 30):\n",
        "  print(\"Berat Badan Berlebih\")\n",
        "elif (imt >= 18.5) and (imt <25):\n",
        "  print(\"Berat Badan Normal\")\n",
        "else:\n",
        "  print(\"Berat Badan di bawah Normal\")"
      ],
      "metadata": {
        "id": "nhdhbktZUgJa",
        "colab": {
          "base_uri": "https://localhost:8080/"
        },
        "outputId": "ac9122e1-f591-4849-959d-5bb77ac71436"
      },
      "execution_count": null,
      "outputs": [
        {
          "output_type": "stream",
          "name": "stdout",
          "text": [
            "Masukkan IMT Anda : 34\n",
            "Obesitas\n"
          ]
        }
      ]
    },
    {
      "cell_type": "code",
      "source": [
        "jarak = int(input('Masukkan jarak : '))\n",
        "harga_tiket = int(input('Masukkan harga tiket : '))\n",
        "\n",
        "if (jarak > 250) or (harga_tiket > 500000):\n",
        "  harga_beli = harga_tiket*0.5\n",
        "  print('Harga tiket pembeliannya : ', harga_beli)\n",
        "elif (jarak > 150) or (harga_tiket > 300000):\n",
        "  harga_beli = harga_tiket*0.7\n",
        "  print('Harga tiket pembeliannya : ', harga_beli)\n",
        "else:\n",
        "  harga_beli = harga_tiket\n",
        "  print('Harga tiket pembeliannya : ', harga_beli)"
      ],
      "metadata": {
        "id": "o3oXa5u_-Ybx",
        "outputId": "0ec0053c-c3cf-4f6a-aab0-45a7be3a7893",
        "colab": {
          "base_uri": "https://localhost:8080/"
        }
      },
      "execution_count": 6,
      "outputs": [
        {
          "output_type": "stream",
          "name": "stdout",
          "text": [
            "Masukkan jarak : 100\n",
            "Masukkan harga tiket : 150000\n",
            "Harga tiket pembeliannya :  150000\n"
          ]
        }
      ]
    },
    {
      "cell_type": "markdown",
      "source": [
        "Perulangan While\n",
        "\n",
        "var = 0\n",
        "while kondisi:\n",
        "\t# program yang akan diulang\n",
        "\tincrement"
      ],
      "metadata": {
        "id": "fVjyRJ4fpIY0"
      }
    },
    {
      "cell_type": "code",
      "source": [
        "i = 9\n",
        "while i >= 8:\n",
        "     print('EdiKartono.Com',i)\n",
        "     i -= 1"
      ],
      "metadata": {
        "colab": {
          "base_uri": "https://localhost:8080/"
        },
        "id": "di3xWgUhmzLs",
        "outputId": "d7187870-44d9-4b61-cf8f-7c9c7d79cd9f"
      },
      "execution_count": 9,
      "outputs": [
        {
          "output_type": "stream",
          "name": "stdout",
          "text": [
            "EdiKartono.Com 9\n",
            "EdiKartono.Com 8\n"
          ]
        }
      ]
    },
    {
      "cell_type": "code",
      "source": [
        "i = 1\n",
        "while i <= 8:\n",
        "     print('EdiKartono.Com',i)\n",
        "     i += 1"
      ],
      "metadata": {
        "colab": {
          "base_uri": "https://localhost:8080/"
        },
        "id": "si8YTv34oDFY",
        "outputId": "12cd75e2-77ca-464b-9173-71f9920ee5dc"
      },
      "execution_count": 11,
      "outputs": [
        {
          "output_type": "stream",
          "name": "stdout",
          "text": [
            "EdiKartono.Com 1\n",
            "EdiKartono.Com 2\n",
            "EdiKartono.Com 3\n",
            "EdiKartono.Com 4\n",
            "EdiKartono.Com 5\n",
            "EdiKartono.Com 6\n",
            "EdiKartono.Com 7\n",
            "EdiKartono.Com 8\n"
          ]
        }
      ]
    },
    {
      "cell_type": "markdown",
      "source": [
        "Kelipatan 3"
      ],
      "metadata": {
        "id": "bckvyG85okFU"
      }
    },
    {
      "cell_type": "code",
      "source": [
        "var = 3\n",
        "while var < 100:\n",
        "   print(var)    \n",
        "   var = var + 3"
      ],
      "metadata": {
        "colab": {
          "base_uri": "https://localhost:8080/"
        },
        "id": "I2uCcsx6oan6",
        "outputId": "aff8eecc-1bd1-4147-ccf0-6ba190e4d329"
      },
      "execution_count": 12,
      "outputs": [
        {
          "output_type": "stream",
          "name": "stdout",
          "text": [
            "3\n",
            "6\n",
            "9\n",
            "12\n",
            "15\n",
            "18\n",
            "21\n",
            "24\n",
            "27\n",
            "30\n",
            "33\n",
            "36\n",
            "39\n",
            "42\n",
            "45\n",
            "48\n",
            "51\n",
            "54\n",
            "57\n",
            "60\n",
            "63\n",
            "66\n",
            "69\n",
            "72\n",
            "75\n",
            "78\n",
            "81\n",
            "84\n",
            "87\n",
            "90\n",
            "93\n",
            "96\n",
            "99\n"
          ]
        }
      ]
    },
    {
      "cell_type": "markdown",
      "source": [
        "Perulangan For"
      ],
      "metadata": {
        "id": "L0m7U0e1pj51"
      }
    },
    {
      "cell_type": "code",
      "source": [
        "buah = ['Mangga','Jambu','Pepaya','Nanas','Pisang','Pepaya']\n",
        "for n in buah:\n",
        "  print(n)"
      ],
      "metadata": {
        "colab": {
          "base_uri": "https://localhost:8080/"
        },
        "id": "yTjPDhcKqSl8",
        "outputId": "f5b90213-e1ec-4c1f-ab71-13a8654bbb03"
      },
      "execution_count": 15,
      "outputs": [
        {
          "output_type": "stream",
          "name": "stdout",
          "text": [
            "Pepaya\n",
            "Mangga\n",
            "Jambu\n",
            "Nanas\n",
            "Pisang\n"
          ]
        }
      ]
    },
    {
      "cell_type": "code",
      "source": [
        "#Dalam bahasa python tipe data string merupakan sebuah array\n",
        "\n",
        "var = 'Belajar'\n",
        "for n in var:\n",
        "  print(n)"
      ],
      "metadata": {
        "colab": {
          "base_uri": "https://localhost:8080/"
        },
        "id": "b6UInEm9q9vd",
        "outputId": "b01b7e0b-33e5-40f2-e5b1-f78807484678"
      },
      "execution_count": 17,
      "outputs": [
        {
          "output_type": "stream",
          "name": "stdout",
          "text": [
            "B\n",
            "e\n",
            "l\n",
            "a\n",
            "j\n",
            "a\n",
            "r\n"
          ]
        }
      ]
    },
    {
      "cell_type": "code",
      "source": [
        "#fungsi range dapat digunakan untuk membuat deret angka yang menjadi inputan kedalam perulangan for\n",
        "\n",
        "for n in range(4):\n",
        "  print(n)"
      ],
      "metadata": {
        "colab": {
          "base_uri": "https://localhost:8080/"
        },
        "id": "wNfDL4UArNdQ",
        "outputId": "27150aed-b616-403f-97c4-16b39834db3d"
      },
      "execution_count": 26,
      "outputs": [
        {
          "output_type": "stream",
          "name": "stdout",
          "text": [
            "0\n",
            "1\n",
            "2\n",
            "3\n"
          ]
        }
      ]
    },
    {
      "cell_type": "code",
      "source": [
        "#mengatur jangkauan\n",
        " \n",
        "for n in range(10,15):\n",
        "  print(n)"
      ],
      "metadata": {
        "colab": {
          "base_uri": "https://localhost:8080/"
        },
        "id": "wZbYyZZ1sIMl",
        "outputId": "a95b3a18-3e5a-478f-a8d3-9fcea0c6b7f7"
      },
      "execution_count": 25,
      "outputs": [
        {
          "output_type": "stream",
          "name": "stdout",
          "text": [
            "10\n",
            "11\n",
            "12\n",
            "13\n",
            "14\n"
          ]
        }
      ]
    },
    {
      "cell_type": "code",
      "source": [
        "# membuat deret angka 2 sampai 10 diamana setiap angka akan naik atau di tambah 2 angka\n",
        "\n",
        "for n in range(2,10,2):\n",
        "  print(n)"
      ],
      "metadata": {
        "colab": {
          "base_uri": "https://localhost:8080/"
        },
        "id": "yZT70El6r8CL",
        "outputId": "63df85f1-ba77-4ff8-da9e-60f3c66f5304"
      },
      "execution_count": 24,
      "outputs": [
        {
          "output_type": "stream",
          "name": "stdout",
          "text": [
            "2\n",
            "4\n",
            "6\n",
            "8\n"
          ]
        }
      ]
    },
    {
      "cell_type": "code",
      "source": [
        "def calculator_tambah(angka1, angka2):\n",
        "  hasil = angka1 + angka2\n",
        "  print(\"hasil dari\", angka1, \"+\" , angka2, \"=\", hasil)\n",
        "\n",
        "calculator_tambah(10, 30)"
      ],
      "metadata": {
        "colab": {
          "base_uri": "https://localhost:8080/"
        },
        "id": "aLI7LO9tEAZJ",
        "outputId": "5734be44-e10d-49e2-be15-609efe04fe17"
      },
      "execution_count": 13,
      "outputs": [
        {
          "output_type": "stream",
          "name": "stdout",
          "text": [
            "hasil dari 10 + 30 = 40\n"
          ]
        }
      ]
    },
    {
      "cell_type": "code",
      "source": [
        "angka1 = int(input(\"masukkan angka 1 :\"))\n",
        "angka2 = int(input(\"masukkan angka 2 :\"))\n",
        "\n",
        "def calculator_tambah(angka1, angka2):\n",
        "  hasil = angka1 + angka2\n",
        "  print(hasil)\n",
        "\n",
        "calculator_tambah(angka1, angka2)"
      ],
      "metadata": {
        "id": "035eXRpPdq91",
        "outputId": "7972c8ef-8f1f-4b3a-bf29-95126244a24a",
        "colab": {
          "base_uri": "https://localhost:8080/"
        }
      },
      "execution_count": 10,
      "outputs": [
        {
          "output_type": "stream",
          "name": "stdout",
          "text": [
            "masukkan angka 1 :10\n",
            "masukkan angka 2 :30\n",
            "40\n"
          ]
        }
      ]
    },
    {
      "cell_type": "code",
      "source": [
        "import cv2\n",
        "import numpy as np\n",
        "import glob\n",
        "import os\n",
        "import matplotlib.pyplot as plt"
      ],
      "metadata": {
        "id": "8Y5Jhw2MF_3N"
      },
      "execution_count": null,
      "outputs": []
    },
    {
      "cell_type": "code",
      "source": [
        "import pandas\n",
        "\n",
        "data = [10, 0, 7, 8, 10]\n",
        "siswa = [\"Andi\", \"Budi\", \"Cindi\", \"Dedy\", \"Edi\"]\n",
        "\n",
        "nilai = pandas.DataFrame({\n",
        "    \"Nama\": siswa,\n",
        "    \"Nilai\": data\n",
        "})\n",
        "nilai"
      ],
      "metadata": {
        "colab": {
          "base_uri": "https://localhost:8080/",
          "height": 206
        },
        "id": "zzC8Wbu4M04s",
        "outputId": "9c6b31f1-b347-4944-90d2-a0d19be9708a"
      },
      "execution_count": null,
      "outputs": [
        {
          "output_type": "execute_result",
          "data": {
            "text/plain": [
              "    Nama  Nilai\n",
              "0   Andi     10\n",
              "1   Budi      0\n",
              "2  Cindi      7\n",
              "3   Dedy      8\n",
              "4    Edi     10"
            ],
            "text/html": [
              "\n",
              "  <div id=\"df-2a6b3852-dfac-475b-8745-df8f8b4d5315\">\n",
              "    <div class=\"colab-df-container\">\n",
              "      <div>\n",
              "<style scoped>\n",
              "    .dataframe tbody tr th:only-of-type {\n",
              "        vertical-align: middle;\n",
              "    }\n",
              "\n",
              "    .dataframe tbody tr th {\n",
              "        vertical-align: top;\n",
              "    }\n",
              "\n",
              "    .dataframe thead th {\n",
              "        text-align: right;\n",
              "    }\n",
              "</style>\n",
              "<table border=\"1\" class=\"dataframe\">\n",
              "  <thead>\n",
              "    <tr style=\"text-align: right;\">\n",
              "      <th></th>\n",
              "      <th>Nama</th>\n",
              "      <th>Nilai</th>\n",
              "    </tr>\n",
              "  </thead>\n",
              "  <tbody>\n",
              "    <tr>\n",
              "      <th>0</th>\n",
              "      <td>Andi</td>\n",
              "      <td>10</td>\n",
              "    </tr>\n",
              "    <tr>\n",
              "      <th>1</th>\n",
              "      <td>Budi</td>\n",
              "      <td>0</td>\n",
              "    </tr>\n",
              "    <tr>\n",
              "      <th>2</th>\n",
              "      <td>Cindi</td>\n",
              "      <td>7</td>\n",
              "    </tr>\n",
              "    <tr>\n",
              "      <th>3</th>\n",
              "      <td>Dedy</td>\n",
              "      <td>8</td>\n",
              "    </tr>\n",
              "    <tr>\n",
              "      <th>4</th>\n",
              "      <td>Edi</td>\n",
              "      <td>10</td>\n",
              "    </tr>\n",
              "  </tbody>\n",
              "</table>\n",
              "</div>\n",
              "      <button class=\"colab-df-convert\" onclick=\"convertToInteractive('df-2a6b3852-dfac-475b-8745-df8f8b4d5315')\"\n",
              "              title=\"Convert this dataframe to an interactive table.\"\n",
              "              style=\"display:none;\">\n",
              "        \n",
              "  <svg xmlns=\"http://www.w3.org/2000/svg\" height=\"24px\"viewBox=\"0 0 24 24\"\n",
              "       width=\"24px\">\n",
              "    <path d=\"M0 0h24v24H0V0z\" fill=\"none\"/>\n",
              "    <path d=\"M18.56 5.44l.94 2.06.94-2.06 2.06-.94-2.06-.94-.94-2.06-.94 2.06-2.06.94zm-11 1L8.5 8.5l.94-2.06 2.06-.94-2.06-.94L8.5 2.5l-.94 2.06-2.06.94zm10 10l.94 2.06.94-2.06 2.06-.94-2.06-.94-.94-2.06-.94 2.06-2.06.94z\"/><path d=\"M17.41 7.96l-1.37-1.37c-.4-.4-.92-.59-1.43-.59-.52 0-1.04.2-1.43.59L10.3 9.45l-7.72 7.72c-.78.78-.78 2.05 0 2.83L4 21.41c.39.39.9.59 1.41.59.51 0 1.02-.2 1.41-.59l7.78-7.78 2.81-2.81c.8-.78.8-2.07 0-2.86zM5.41 20L4 18.59l7.72-7.72 1.47 1.35L5.41 20z\"/>\n",
              "  </svg>\n",
              "      </button>\n",
              "      \n",
              "  <style>\n",
              "    .colab-df-container {\n",
              "      display:flex;\n",
              "      flex-wrap:wrap;\n",
              "      gap: 12px;\n",
              "    }\n",
              "\n",
              "    .colab-df-convert {\n",
              "      background-color: #E8F0FE;\n",
              "      border: none;\n",
              "      border-radius: 50%;\n",
              "      cursor: pointer;\n",
              "      display: none;\n",
              "      fill: #1967D2;\n",
              "      height: 32px;\n",
              "      padding: 0 0 0 0;\n",
              "      width: 32px;\n",
              "    }\n",
              "\n",
              "    .colab-df-convert:hover {\n",
              "      background-color: #E2EBFA;\n",
              "      box-shadow: 0px 1px 2px rgba(60, 64, 67, 0.3), 0px 1px 3px 1px rgba(60, 64, 67, 0.15);\n",
              "      fill: #174EA6;\n",
              "    }\n",
              "\n",
              "    [theme=dark] .colab-df-convert {\n",
              "      background-color: #3B4455;\n",
              "      fill: #D2E3FC;\n",
              "    }\n",
              "\n",
              "    [theme=dark] .colab-df-convert:hover {\n",
              "      background-color: #434B5C;\n",
              "      box-shadow: 0px 1px 3px 1px rgba(0, 0, 0, 0.15);\n",
              "      filter: drop-shadow(0px 1px 2px rgba(0, 0, 0, 0.3));\n",
              "      fill: #FFFFFF;\n",
              "    }\n",
              "  </style>\n",
              "\n",
              "      <script>\n",
              "        const buttonEl =\n",
              "          document.querySelector('#df-2a6b3852-dfac-475b-8745-df8f8b4d5315 button.colab-df-convert');\n",
              "        buttonEl.style.display =\n",
              "          google.colab.kernel.accessAllowed ? 'block' : 'none';\n",
              "\n",
              "        async function convertToInteractive(key) {\n",
              "          const element = document.querySelector('#df-2a6b3852-dfac-475b-8745-df8f8b4d5315');\n",
              "          const dataTable =\n",
              "            await google.colab.kernel.invokeFunction('convertToInteractive',\n",
              "                                                     [key], {});\n",
              "          if (!dataTable) return;\n",
              "\n",
              "          const docLinkHtml = 'Like what you see? Visit the ' +\n",
              "            '<a target=\"_blank\" href=https://colab.research.google.com/notebooks/data_table.ipynb>data table notebook</a>'\n",
              "            + ' to learn more about interactive tables.';\n",
              "          element.innerHTML = '';\n",
              "          dataTable['output_type'] = 'display_data';\n",
              "          await google.colab.output.renderOutput(dataTable, element);\n",
              "          const docLink = document.createElement('div');\n",
              "          docLink.innerHTML = docLinkHtml;\n",
              "          element.appendChild(docLink);\n",
              "        }\n",
              "      </script>\n",
              "    </div>\n",
              "  </div>\n",
              "  "
            ]
          },
          "metadata": {},
          "execution_count": 7
        }
      ]
    },
    {
      "cell_type": "code",
      "source": [
        "import pandas as pd\n",
        "import numpy as np\n",
        "\n",
        "dict = {\"Negara\": [\"Indonesia\", \"Jepang\", \"India\", \"China\", \"Amerika Serikat\"],\n",
        "        \"Ibu Kota\": [\"Jakarta\", \"Tokyo\", \"New Dehli\", \"Beijing\", \"Washington, D.C\"],\n",
        "        \"Luas\": [1905, 377972, 3287, 9597, 9834], \n",
        "        \"Populasi\": [264, 143, 1252, 1357, 5298]}\n",
        "\n",
        "df = pd.DataFrame(dict)\n",
        "\n",
        "print(df)"
      ],
      "metadata": {
        "colab": {
          "base_uri": "https://localhost:8080/"
        },
        "id": "izY5FtcMO27P",
        "outputId": "5549d227-fc3a-44a1-e8b4-c800865bce79"
      },
      "execution_count": null,
      "outputs": [
        {
          "output_type": "stream",
          "name": "stdout",
          "text": [
            "            Negara         Ibu Kota    Luas  Populasi\n",
            "0        Indonesia          Jakarta    1905       264\n",
            "1           Jepang            Tokyo  377972       143\n",
            "2            India        New Dehli    3287      1252\n",
            "3            China          Beijing    9597      1357\n",
            "4  Amerika Serikat  Washington, D.C    9834      5298\n"
          ]
        }
      ]
    }
  ]
}