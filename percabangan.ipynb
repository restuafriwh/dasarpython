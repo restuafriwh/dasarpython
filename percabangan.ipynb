{
  "nbformat": 4,
  "nbformat_minor": 0,
  "metadata": {
    "colab": {
      "provenance": [],
      "authorship_tag": "ABX9TyOM8aXakp+LzT7ni7B/l+5x",
      "include_colab_link": true
    },
    "kernelspec": {
      "name": "python3",
      "display_name": "Python 3"
    },
    "language_info": {
      "name": "python"
    }
  },
  "cells": [
    {
      "cell_type": "markdown",
      "metadata": {
        "id": "view-in-github",
        "colab_type": "text"
      },
      "source": [
        "<a href=\"https://colab.research.google.com/github/rstvwxyz/dasarpython/blob/main/percabangan.ipynb\" target=\"_parent\"><img src=\"https://colab.research.google.com/assets/colab-badge.svg\" alt=\"Open In Colab\"/></a>"
      ]
    },
    {
      "cell_type": "code",
      "execution_count": null,
      "metadata": {
        "colab": {
          "base_uri": "https://localhost:8080/"
        },
        "id": "cVTQmKygIdvl",
        "outputId": "9c5f14e3-b832-4679-ffea-98332b5919ed"
      },
      "outputs": [
        {
          "name": "stdout",
          "output_type": "stream",
          "text": [
            "Masukkan angka -8\n"
          ]
        }
      ],
      "source": [
        "# percabangan if\n",
        "angka = int(input(\"Masukkan angka \"))\n",
        "if angka > 0:\n",
        "  print(angka, \"adalah bilangan positif\")"
      ]
    },
    {
      "cell_type": "code",
      "source": [
        "# percabangan if ... else\n",
        "angka = int(input(\"Masukkan angka \"))\n",
        "if angka > 0:\n",
        "  print(angka, \"adalah bilangan positif\")\n",
        "else:\n",
        "   print(angka, \"adalah bilangan negatif\")"
      ],
      "metadata": {
        "id": "oNg_TeImL09y"
      },
      "execution_count": null,
      "outputs": []
    },
    {
      "cell_type": "code",
      "source": [
        "bil1 = int(input(\"Masukkan bil1 : \"))\n",
        "bil2 = int(input(\"Masukkan bil2 : \"))\n",
        "\n",
        "if bil1 > bil2:\n",
        "  print(bil1, \"lebih besar dari\", bil2)\n",
        "else:\n",
        "   print(bil2, \"lebih kecil dari\", bil1)"
      ],
      "metadata": {
        "colab": {
          "base_uri": "https://localhost:8080/"
        },
        "id": "idDY514wdFZt",
        "outputId": "6b2617d9-81d3-4920-9f05-91121e4e0939"
      },
      "execution_count": null,
      "outputs": [
        {
          "output_type": "stream",
          "name": "stdout",
          "text": [
            "Masukkan bil1 : 20\n",
            "Masukkan bil2 : 10\n",
            "20 lebih besar dari 10\n"
          ]
        }
      ]
    },
    {
      "cell_type": "code",
      "source": [
        "bil1 = int(input(\"Masukkan bil1 : \"))\n",
        "bil2 = int(input(\"Masukkan bil2 : \"))\n",
        "\n",
        "if bil1 > bil2:\n",
        "  print(\"bilangan\", bil1, \"lebih besar dari bilangan\", bil2)\n",
        "elif bil1 < bil2:\n",
        "  print(\"bilangan\", bil1, \"lebih kecil dari bilangan\", bil2)\n",
        "else:\n",
        "   print(\"bilangan\", bil1, \"sama dengan bilangan\", bil2)"
      ],
      "metadata": {
        "colab": {
          "base_uri": "https://localhost:8080/"
        },
        "id": "DPQHa7-Fdx_C",
        "outputId": "372218df-b789-4573-c425-07215f74eb49"
      },
      "execution_count": null,
      "outputs": [
        {
          "output_type": "stream",
          "name": "stdout",
          "text": [
            "Masukkan bil1 : 23\n",
            "Masukkan bil2 : 23\n",
            "bilangan 23 sama dengan bilangan 23\n"
          ]
        }
      ]
    },
    {
      "cell_type": "code",
      "source": [
        "# percabangan if .. elif .. else\n",
        "usia = int(input(\"Masukkan usia Anda \"))\n",
        "\n",
        "if usia<=5:\n",
        "  print(\"Masa Batita\")\n",
        "elif usia<=12:\n",
        "  print(\"Masa Anak-anak\")\n",
        "elif usia<=17:\n",
        "  print(\"Masa Remaja Awal\")\n",
        "elif usia<=25:\n",
        "  print(\"Masa Remaja Akhir\")\n",
        "elif usia<=60:\n",
        "  print(\"Masa Dewasa\")\n",
        "else:\n",
        "  print(\"Masa Lansia\")"
      ],
      "metadata": {
        "colab": {
          "base_uri": "https://localhost:8080/"
        },
        "id": "H57KRMdnMQAq",
        "outputId": "26a33772-8557-441f-dc58-826c65216ccf"
      },
      "execution_count": null,
      "outputs": [
        {
          "output_type": "stream",
          "name": "stdout",
          "text": [
            "Masukkan usia Anda 27\n",
            "Masa Dewasa\n"
          ]
        }
      ]
    },
    {
      "cell_type": "code",
      "source": [
        "# percabangan bertingkat\n",
        "nilai = int(input('Masukkan nilai: '))\n",
        "usia = int(input('Masukkan usia: '))\n",
        "\n",
        "if nilai >= 75:\n",
        "  if (usia < 15):\n",
        "    print('Selamat adek, kamu lulus!')\n",
        "  else:\n",
        "    print('Selamat kakak, kamu lulus!')\n",
        "else:\n",
        "  if (usia < 15):\n",
        "    print('Mohon maaf dek, coba lagi ya!')\n",
        "  else:\n",
        "    print('Mohon maaf kak, coba lagi ya!')"
      ],
      "metadata": {
        "colab": {
          "base_uri": "https://localhost:8080/"
        },
        "id": "TT_SiN7HVpI6",
        "outputId": "f6ac7e7a-618f-4039-950d-eb72c924b050"
      },
      "execution_count": null,
      "outputs": [
        {
          "output_type": "stream",
          "name": "stdout",
          "text": [
            "Masukkan nilai: 75\n",
            "Masukkan usia: 14\n",
            "Selamat adek, kamu lulus!\n"
          ]
        }
      ]
    },
    {
      "cell_type": "code",
      "source": [
        "#mencari angka terbesar\n",
        "a = int(input('Masukkan nilai a: '))\n",
        "b = int(input('Masukkan nilai b: '))\n",
        "c = int(input('Masukkan nilai c: '))\n",
        "\n",
        "if a > b and a > c:\n",
        "  print('A yang terbesar')\n",
        "elif b > a and b > c:\n",
        "  print('B yang terbesar')\n",
        "else:\n",
        "  print('C yang terbesar')"
      ],
      "metadata": {
        "colab": {
          "base_uri": "https://localhost:8080/"
        },
        "id": "F4OhJkKgYJux",
        "outputId": "c4fb282a-fc60-4063-af7a-b99e92b7d0dc"
      },
      "execution_count": null,
      "outputs": [
        {
          "output_type": "stream",
          "name": "stdout",
          "text": [
            "Masukkan nilai a: 4\n",
            "Masukkan nilai b: 90\n",
            "Masukkan nilai c: 30\n",
            "B yang terbesar\n"
          ]
        }
      ]
    },
    {
      "cell_type": "code",
      "source": [
        "a = int(input('Masukkan nilai a: '))\n",
        "b = int(input('Masukkan nilai b: '))\n",
        "c = int(input('Masukkan nilai c: '))\n",
        "\n",
        "if a < b and a < c:\n",
        "  print('A yang terkecil')\n",
        "elif b < a and b < c:\n",
        "  print('B yang terkecil')\n",
        "else:\n",
        "  print('C yang terkecil')"
      ],
      "metadata": {
        "colab": {
          "base_uri": "https://localhost:8080/"
        },
        "id": "j_VSg9XSYsBL",
        "outputId": "b383f7ec-40c3-4201-d24a-fafaf3bce9b0"
      },
      "execution_count": null,
      "outputs": [
        {
          "output_type": "stream",
          "name": "stdout",
          "text": [
            "Masukkan nilai a: 19\n",
            "Masukkan nilai b: 45\n",
            "Masukkan nilai c: 2\n",
            "C yang terkecil\n"
          ]
        }
      ]
    },
    {
      "cell_type": "code",
      "source": [
        "nilai = int(input('Masukkan nilai: '))\n",
        "\n",
        "if nilai >= 90:\n",
        "  print('Predikat A')\n",
        "elif nilai >= 80:\n",
        "  print('Predikat B')\n",
        "elif nilai >= 60:\n",
        "  print('Predikat C')\n",
        "elif nilai >= 40:\n",
        "  print('Predikat D')\n",
        "else:\n",
        "  print('Predikat E')"
      ],
      "metadata": {
        "colab": {
          "base_uri": "https://localhost:8080/"
        },
        "id": "PB3a6tFmT81j",
        "outputId": "aa2e88ff-6578-47d6-ef7b-2a72512993ce"
      },
      "execution_count": null,
      "outputs": [
        {
          "output_type": "stream",
          "name": "stdout",
          "text": [
            "Masukkan nilai: 40\n",
            "Predikat D\n"
          ]
        }
      ]
    },
    {
      "cell_type": "code",
      "source": [
        "# percabangan if .. elif .. else\n",
        "imt = float(input(\"Masukkan IMT Anda : \"))\n",
        "\n",
        "if imt >= 30:\n",
        "  print(\"Obesitas\")\n",
        "elif imt >= 25:\n",
        "  print(\"Berat Badan Berlebih\")\n",
        "elif imt >= 18.5:\n",
        "  print(\"Berat Badan Normal\")\n",
        "else:\n",
        "  print(\"Berat Badan di bawah Normal\")"
      ],
      "metadata": {
        "colab": {
          "base_uri": "https://localhost:8080/"
        },
        "id": "p6DLGEu6S7SL",
        "outputId": "c045a465-b177-4de2-9723-8ffcb4823bb9"
      },
      "execution_count": null,
      "outputs": [
        {
          "output_type": "stream",
          "name": "stdout",
          "text": [
            "Masukkan IMT Anda : 17.6\n",
            "Berat Badan di bawah Normal\n"
          ]
        }
      ]
    },
    {
      "cell_type": "code",
      "source": [
        "# percabangan if .. elif .. else\n",
        "imt = float(input(\"Masukkan IMT Anda : \"))\n",
        "\n",
        "if (imt >= 30):\n",
        "  print(\"Obesitas\")\n",
        "elif (imt >=25) and (imt < 30):\n",
        "  print(\"Berat Badan Berlebih\")\n",
        "elif (imt >= 18.5) and (imt <25):\n",
        "  print(\"Berat Badan Normal\")\n",
        "else:\n",
        "  print(\"Berat Badan di bawah Normal\")"
      ],
      "metadata": {
        "id": "nhdhbktZUgJa",
        "colab": {
          "base_uri": "https://localhost:8080/"
        },
        "outputId": "ac9122e1-f591-4849-959d-5bb77ac71436"
      },
      "execution_count": null,
      "outputs": [
        {
          "output_type": "stream",
          "name": "stdout",
          "text": [
            "Masukkan IMT Anda : 34\n",
            "Obesitas\n"
          ]
        }
      ]
    },
    {
      "cell_type": "code",
      "source": [
        "jarak = int(input('Masukkan jarak : '))\n",
        "harga_tiket = int(input('Masukkan harga tiket : '))\n",
        "\n",
        "if jarak > 250 or harga_tiket > 500000:\n",
        "  harga_beli = harga_tiket*0.5\n",
        "  print('Harga tiket pembeliannya : ', harga_beli)\n",
        "elif jarak > 150 or harga_tiket > 300000:\n",
        "  harga_beli = harga_tiket*0.7\n",
        "  print('Harga tiket pembeliannya : ', harga_beli)\n",
        "else:\n",
        "  harga_beli = harga_tiket\n",
        "  print('Harga tiket pembeliannya : ', harga_beli)"
      ],
      "metadata": {
        "id": "o3oXa5u_-Ybx",
        "outputId": "1fe46ba7-4754-439a-a2cc-0556ce269b61",
        "colab": {
          "base_uri": "https://localhost:8080/"
        }
      },
      "execution_count": 14,
      "outputs": [
        {
          "output_type": "stream",
          "name": "stdout",
          "text": [
            "Masukkan jarak : 150\n",
            "Masukkan harga tiket : 100000\n",
            "Harga tiket pembeliannya :  100000\n"
          ]
        }
      ]
    },
    {
      "cell_type": "code",
      "source": [
        "def calculator_tambah(angka1, angka2):\n",
        "  hasil = angka1 + angka2\n",
        "  print(hasil)\n",
        "\n",
        "calculator_tambah(10, 30)"
      ],
      "metadata": {
        "colab": {
          "base_uri": "https://localhost:8080/"
        },
        "id": "aLI7LO9tEAZJ",
        "outputId": "be65eb07-e3ea-4647-968b-afd650471987"
      },
      "execution_count": 5,
      "outputs": [
        {
          "output_type": "stream",
          "name": "stdout",
          "text": [
            "40\n"
          ]
        }
      ]
    },
    {
      "cell_type": "code",
      "source": [
        "import cv2\n",
        "import numpy as np\n",
        "import glob\n",
        "import os\n",
        "import matplotlib.pyplot as plt"
      ],
      "metadata": {
        "id": "8Y5Jhw2MF_3N"
      },
      "execution_count": null,
      "outputs": []
    },
    {
      "cell_type": "code",
      "source": [
        "import pandas\n",
        "\n",
        "data = [10, 0, 7, 8, 10]\n",
        "siswa = [\"Andi\", \"Budi\", \"Cindi\", \"Dedy\", \"Edi\"]\n",
        "\n",
        "nilai = pandas.DataFrame({\n",
        "    \"Nama\": siswa,\n",
        "    \"Nilai\": data\n",
        "})\n",
        "nilai"
      ],
      "metadata": {
        "colab": {
          "base_uri": "https://localhost:8080/",
          "height": 206
        },
        "id": "zzC8Wbu4M04s",
        "outputId": "9c6b31f1-b347-4944-90d2-a0d19be9708a"
      },
      "execution_count": 7,
      "outputs": [
        {
          "output_type": "execute_result",
          "data": {
            "text/plain": [
              "    Nama  Nilai\n",
              "0   Andi     10\n",
              "1   Budi      0\n",
              "2  Cindi      7\n",
              "3   Dedy      8\n",
              "4    Edi     10"
            ],
            "text/html": [
              "\n",
              "  <div id=\"df-2a6b3852-dfac-475b-8745-df8f8b4d5315\">\n",
              "    <div class=\"colab-df-container\">\n",
              "      <div>\n",
              "<style scoped>\n",
              "    .dataframe tbody tr th:only-of-type {\n",
              "        vertical-align: middle;\n",
              "    }\n",
              "\n",
              "    .dataframe tbody tr th {\n",
              "        vertical-align: top;\n",
              "    }\n",
              "\n",
              "    .dataframe thead th {\n",
              "        text-align: right;\n",
              "    }\n",
              "</style>\n",
              "<table border=\"1\" class=\"dataframe\">\n",
              "  <thead>\n",
              "    <tr style=\"text-align: right;\">\n",
              "      <th></th>\n",
              "      <th>Nama</th>\n",
              "      <th>Nilai</th>\n",
              "    </tr>\n",
              "  </thead>\n",
              "  <tbody>\n",
              "    <tr>\n",
              "      <th>0</th>\n",
              "      <td>Andi</td>\n",
              "      <td>10</td>\n",
              "    </tr>\n",
              "    <tr>\n",
              "      <th>1</th>\n",
              "      <td>Budi</td>\n",
              "      <td>0</td>\n",
              "    </tr>\n",
              "    <tr>\n",
              "      <th>2</th>\n",
              "      <td>Cindi</td>\n",
              "      <td>7</td>\n",
              "    </tr>\n",
              "    <tr>\n",
              "      <th>3</th>\n",
              "      <td>Dedy</td>\n",
              "      <td>8</td>\n",
              "    </tr>\n",
              "    <tr>\n",
              "      <th>4</th>\n",
              "      <td>Edi</td>\n",
              "      <td>10</td>\n",
              "    </tr>\n",
              "  </tbody>\n",
              "</table>\n",
              "</div>\n",
              "      <button class=\"colab-df-convert\" onclick=\"convertToInteractive('df-2a6b3852-dfac-475b-8745-df8f8b4d5315')\"\n",
              "              title=\"Convert this dataframe to an interactive table.\"\n",
              "              style=\"display:none;\">\n",
              "        \n",
              "  <svg xmlns=\"http://www.w3.org/2000/svg\" height=\"24px\"viewBox=\"0 0 24 24\"\n",
              "       width=\"24px\">\n",
              "    <path d=\"M0 0h24v24H0V0z\" fill=\"none\"/>\n",
              "    <path d=\"M18.56 5.44l.94 2.06.94-2.06 2.06-.94-2.06-.94-.94-2.06-.94 2.06-2.06.94zm-11 1L8.5 8.5l.94-2.06 2.06-.94-2.06-.94L8.5 2.5l-.94 2.06-2.06.94zm10 10l.94 2.06.94-2.06 2.06-.94-2.06-.94-.94-2.06-.94 2.06-2.06.94z\"/><path d=\"M17.41 7.96l-1.37-1.37c-.4-.4-.92-.59-1.43-.59-.52 0-1.04.2-1.43.59L10.3 9.45l-7.72 7.72c-.78.78-.78 2.05 0 2.83L4 21.41c.39.39.9.59 1.41.59.51 0 1.02-.2 1.41-.59l7.78-7.78 2.81-2.81c.8-.78.8-2.07 0-2.86zM5.41 20L4 18.59l7.72-7.72 1.47 1.35L5.41 20z\"/>\n",
              "  </svg>\n",
              "      </button>\n",
              "      \n",
              "  <style>\n",
              "    .colab-df-container {\n",
              "      display:flex;\n",
              "      flex-wrap:wrap;\n",
              "      gap: 12px;\n",
              "    }\n",
              "\n",
              "    .colab-df-convert {\n",
              "      background-color: #E8F0FE;\n",
              "      border: none;\n",
              "      border-radius: 50%;\n",
              "      cursor: pointer;\n",
              "      display: none;\n",
              "      fill: #1967D2;\n",
              "      height: 32px;\n",
              "      padding: 0 0 0 0;\n",
              "      width: 32px;\n",
              "    }\n",
              "\n",
              "    .colab-df-convert:hover {\n",
              "      background-color: #E2EBFA;\n",
              "      box-shadow: 0px 1px 2px rgba(60, 64, 67, 0.3), 0px 1px 3px 1px rgba(60, 64, 67, 0.15);\n",
              "      fill: #174EA6;\n",
              "    }\n",
              "\n",
              "    [theme=dark] .colab-df-convert {\n",
              "      background-color: #3B4455;\n",
              "      fill: #D2E3FC;\n",
              "    }\n",
              "\n",
              "    [theme=dark] .colab-df-convert:hover {\n",
              "      background-color: #434B5C;\n",
              "      box-shadow: 0px 1px 3px 1px rgba(0, 0, 0, 0.15);\n",
              "      filter: drop-shadow(0px 1px 2px rgba(0, 0, 0, 0.3));\n",
              "      fill: #FFFFFF;\n",
              "    }\n",
              "  </style>\n",
              "\n",
              "      <script>\n",
              "        const buttonEl =\n",
              "          document.querySelector('#df-2a6b3852-dfac-475b-8745-df8f8b4d5315 button.colab-df-convert');\n",
              "        buttonEl.style.display =\n",
              "          google.colab.kernel.accessAllowed ? 'block' : 'none';\n",
              "\n",
              "        async function convertToInteractive(key) {\n",
              "          const element = document.querySelector('#df-2a6b3852-dfac-475b-8745-df8f8b4d5315');\n",
              "          const dataTable =\n",
              "            await google.colab.kernel.invokeFunction('convertToInteractive',\n",
              "                                                     [key], {});\n",
              "          if (!dataTable) return;\n",
              "\n",
              "          const docLinkHtml = 'Like what you see? Visit the ' +\n",
              "            '<a target=\"_blank\" href=https://colab.research.google.com/notebooks/data_table.ipynb>data table notebook</a>'\n",
              "            + ' to learn more about interactive tables.';\n",
              "          element.innerHTML = '';\n",
              "          dataTable['output_type'] = 'display_data';\n",
              "          await google.colab.output.renderOutput(dataTable, element);\n",
              "          const docLink = document.createElement('div');\n",
              "          docLink.innerHTML = docLinkHtml;\n",
              "          element.appendChild(docLink);\n",
              "        }\n",
              "      </script>\n",
              "    </div>\n",
              "  </div>\n",
              "  "
            ]
          },
          "metadata": {},
          "execution_count": 7
        }
      ]
    },
    {
      "cell_type": "code",
      "source": [
        "import pandas as pd\n",
        "import numpy as np\n",
        "\n",
        "dict = {\"Negara\": [\"Indonesia\", \"Jepang\", \"India\", \"China\", \"Amerika Serikat\"],\n",
        "        \"Ibu Kota\": [\"Jakarta\", \"Tokyo\", \"New Dehli\", \"Beijing\", \"Washington, D.C\"],\n",
        "        \"Luas\": [1905, 377972, 3287, 9597, 9834], \n",
        "        \"Populasi\": [264, 143, 1252, 1357, 5298]}\n",
        "\n",
        "df = pd.DataFrame(dict)\n",
        "\n",
        "print(df)"
      ],
      "metadata": {
        "colab": {
          "base_uri": "https://localhost:8080/"
        },
        "id": "izY5FtcMO27P",
        "outputId": "5549d227-fc3a-44a1-e8b4-c800865bce79"
      },
      "execution_count": 9,
      "outputs": [
        {
          "output_type": "stream",
          "name": "stdout",
          "text": [
            "            Negara         Ibu Kota    Luas  Populasi\n",
            "0        Indonesia          Jakarta    1905       264\n",
            "1           Jepang            Tokyo  377972       143\n",
            "2            India        New Dehli    3287      1252\n",
            "3            China          Beijing    9597      1357\n",
            "4  Amerika Serikat  Washington, D.C    9834      5298\n"
          ]
        }
      ]
    }
  ]
}