{
  "nbformat": 4,
  "nbformat_minor": 0,
  "metadata": {
    "colab": {
      "provenance": [],
      "authorship_tag": "ABX9TyPGEO8+WqucKhKt3BXYcMR7",
      "include_colab_link": true
    },
    "kernelspec": {
      "name": "python3",
      "display_name": "Python 3"
    },
    "language_info": {
      "name": "python"
    }
  },
  "cells": [
    {
      "cell_type": "markdown",
      "metadata": {
        "id": "view-in-github",
        "colab_type": "text"
      },
      "source": [
        "<a href=\"https://colab.research.google.com/github/rstvwxyz/dasarpython/blob/main/latihan3_operator.ipynb\" target=\"_parent\"><img src=\"https://colab.research.google.com/assets/colab-badge.svg\" alt=\"Open In Colab\"/></a>"
      ]
    },
    {
      "cell_type": "code",
      "source": [
        "#Operator Aritmatika\n",
        "print('Operator Aritmatika')\n",
        "\n",
        "a = 9\n",
        "b = 10\n",
        "\n",
        "print('a + b \\t:', a+b)     #PENJUMLAHAN\n",
        "print('a - b \\t:', a-b)     #PENGURANGAN\n",
        "print('a * b \\t:', a*b)     #PERKALIAN\n",
        "print('a / b \\t:', a/b)     #PEMBAGIAN\n",
        "print('a // b \\t:', a//b)   #PEMBULATAN BILANGAN\n",
        "print('b % a \\t:', b%a)     #MODULUS\n",
        "print('a ** b \\t:', a**b)   #PEMANGKATAN NILAI OPERAND\n",
        "\n",
        "a+b\n",
        "a-b\n",
        "a*b"
      ],
      "metadata": {
        "colab": {
          "base_uri": "https://localhost:8080/"
        },
        "id": "QsfrkFQPXnQi",
        "outputId": "5c2f54f2-79f3-4899-9aee-4ea21cc421f0"
      },
      "execution_count": null,
      "outputs": [
        {
          "output_type": "stream",
          "name": "stdout",
          "text": [
            "Operator Aritmatika\n",
            "a + b \t: 19\n",
            "a - b \t: -1\n",
            "a * b \t: 90\n",
            "a / b \t: 0.9\n",
            "a // b \t: 0\n",
            "b % a \t: 1\n",
            "a ** b \t: 3486784401\n"
          ]
        },
        {
          "output_type": "execute_result",
          "data": {
            "text/plain": [
              "90"
            ]
          },
          "metadata": {},
          "execution_count": 2
        }
      ]
    },
    {
      "cell_type": "code",
      "source": [
        "#Latihan \n",
        "print('PROGRAM KONVERSI TEMPERATURE SUHU\\n')\n",
        "\n",
        "#konversi celcius ke satuan lain\n",
        "celcius = float(input('Masukkan suhu dalam Celcius = '))\n",
        "print('Suhu Celcius = ', celcius)\n",
        "\n",
        "#Reamur\n",
        "reamur = (4/5)*celcius\n",
        "print('Suhu dalam Reamur = ', reamur)\n",
        "\n",
        "#Fahrenheit\n",
        "fahrenheit = ((9/5)*celcius)+32\n",
        "print('Suhu dalam Fahrenheit = ', fahrenheit)\n",
        "\n",
        "#Kelvin\n",
        "kelvin = celcius+273\n",
        "print('Suhu dalam Kelvin = ', kelvin)"
      ],
      "metadata": {
        "colab": {
          "base_uri": "https://localhost:8080/"
        },
        "id": "gCOFUtIQKcbI",
        "outputId": "14b74cf2-5686-4a39-e861-01e911b54d02"
      },
      "execution_count": null,
      "outputs": [
        {
          "output_type": "stream",
          "name": "stdout",
          "text": [
            "PROGRAM KONVERSI TEMPERATURE SUHU\n",
            "\n",
            "Masukkan suhu dalam Celcius = 15\n",
            "Suhu Celcius =  15.0\n",
            "Suhu dalam Reamur =  12.0\n",
            "Suhu dalam Fahrenheit =  59.0\n",
            "Suhu dalam Kelvin =  288.0\n"
          ]
        }
      ]
    },
    {
      "cell_type": "code",
      "execution_count": null,
      "metadata": {
        "colab": {
          "base_uri": "https://localhost:8080/"
        },
        "id": "Irnfscd8Vc32",
        "outputId": "99fa9277-c580-415f-9218-64e3ce13dba3"
      },
      "outputs": [
        {
          "output_type": "stream",
          "name": "stdout",
          "text": [
            "Operator Perbandingan\n",
            "a > b \t: False\n",
            "a < b \t: True\n",
            "a == b \t: False\n",
            "a != b \t: True\n",
            "a >= b \t: False\n",
            "a <= b \t: True\n"
          ]
        }
      ],
      "source": [
        "#Operator Perbandingan\n",
        "#menghasilkan nilai boolean \"True\" atau \"False\"\n",
        "print('Operator Perbandingan')\n",
        "\n",
        "a = 9\n",
        "b = 15\n",
        "\n",
        "print('a > b \\t:', a>b)     #lebih besar dari\n",
        "print('a < b \\t:', a<b)     #lebih kecil dari\n",
        "print('a == b \\t:', a==b)   #sama dengan\n",
        "print('a != b \\t:', a!=b)   #tidak sama dengan\n",
        "print('a >= b \\t:', a>=b)   #lebih besar dari sama dengan\n",
        "print('a <= b \\t:', a<=b)   #lebih kecil dari sama dengan"
      ]
    },
    {
      "cell_type": "code",
      "source": [
        "#Operator Identitas\n",
        "#memeriksa apakah dua buah variabel mengacu ke objek yg sama atau tidak\n",
        "print('\\nOperator Identitas\\n')\n",
        "\n",
        "#Operator is\n",
        "a = 3\n",
        "b = a\n",
        "print('b is a :', b is a)\n",
        "print('b is not a', b is not a)\n",
        "\n",
        "#Operator is not\n",
        "a = [1, 3, 5, 6]\n",
        "b = [1, 3, 5, 9]\n",
        "print('\\nb is not a :', b is not a)"
      ],
      "metadata": {
        "colab": {
          "base_uri": "https://localhost:8080/"
        },
        "id": "O4MykHJIw_WD",
        "outputId": "ae035339-2b97-4970-df6f-7079c83131c1"
      },
      "execution_count": 5,
      "outputs": [
        {
          "output_type": "stream",
          "name": "stdout",
          "text": [
            "\n",
            "Operator Identitas\n",
            "\n",
            "b is a : True\n",
            "b is not a False\n",
            "\n",
            "b is not a : True\n"
          ]
        }
      ]
    },
    {
      "cell_type": "code",
      "source": [
        "#Operator Logika/Boolean\n",
        "print('Operator Logika/Boolean')\n",
        "\n",
        "#Logika NOT\n",
        "print('\\n-----NOT-----')\n",
        "a = False\n",
        "c = not a\n",
        "print('data a', a)\n",
        "print('data c', c)\n",
        "\n",
        "#Logika OR : Jika salah satu true, maka hasilnya true, seperti penjumlahan\n",
        "print('\\n-----OR-----')\n",
        "a = False\n",
        "b = False\n",
        "c = a or b\n",
        "print(a,'OR',b,'=',c)\n",
        "a = False\n",
        "b = True\n",
        "c = a or b\n",
        "print(a,'OR',b,'=',c)\n",
        "a = True\n",
        "b = False\n",
        "c = a or b\n",
        "print(a,'OR',b,'=',c)\n",
        "a = True\n",
        "b = True\n",
        "c = a or b\n",
        "print(a,'OR',b,'=',c)\n",
        "\n",
        "#Logika AND : Jika dua buah nilai true, maka hasilnya true, seperti perkalian\n",
        "print('\\n-----AND-----')\n",
        "a = False\n",
        "b = False\n",
        "c = a and b\n",
        "print(a,'AND',b,'=',c)\n",
        "a = False\n",
        "b = True\n",
        "c = a and b\n",
        "print(a,'AND',b,'=',c)\n",
        "a = True\n",
        "b = False\n",
        "c = a and b\n",
        "print(a,'AND',b,'=',c)\n",
        "a = True\n",
        "b = True\n",
        "c = a and b\n",
        "print(a,'AND',b,'=',c)\n",
        "\n",
        "#Logika XOR: Bernilai true, jika salah satu true\n",
        "print('\\n-----XOR-----')\n",
        "a = False\n",
        "b = False\n",
        "c = a ^ b\n",
        "print(a,'XOR',b,'=',c)\n",
        "a = False\n",
        "b = True\n",
        "c = a ^ b\n",
        "print(a,'XOR',b,'=',c)\n",
        "a = True\n",
        "b = False\n",
        "c = a ^ b\n",
        "print(a,'XOR',b,'=',c)\n",
        "a = True\n",
        "b = True\n",
        "c = a ^ b\n",
        "print(a,'XOR',b,'=',c)\n",
        "\n"
      ],
      "metadata": {
        "colab": {
          "base_uri": "https://localhost:8080/"
        },
        "id": "Dqz_S0ppako8",
        "outputId": "dbe7a0e3-049f-4bbd-ac14-b12031654c01"
      },
      "execution_count": null,
      "outputs": [
        {
          "output_type": "stream",
          "name": "stdout",
          "text": [
            "Operator Logika/Boolean\n",
            "\n",
            "-----NOT-----\n",
            "data a False\n",
            "data c True\n",
            "\n",
            "-----OR-----\n",
            "False OR False = False\n",
            "False OR True = True\n",
            "True OR False = True\n",
            "True OR True = True\n",
            "\n",
            "-----AND-----\n",
            "False AND False = False\n",
            "False AND True = False\n",
            "True AND False = False\n",
            "True AND True = True\n",
            "\n",
            "-----XOR-----\n",
            "False XOR False = False\n",
            "False XOR True = True\n",
            "True XOR False = True\n",
            "True XOR True = False\n"
          ]
        }
      ]
    },
    {
      "cell_type": "code",
      "source": [
        "#Latihan logika dan komparasi\n",
        "#membuat gabungan area rentang dari angka\n",
        "inputUser = float(input('masukkan angka yang bernilai kurang dari 3 atau lebih dari 10 = '))\n",
        "\n",
        "#+++++3---------\n",
        "#memeriksa angka kurang dari 3\n",
        "isKurangDari = (inputUser < 3)\n",
        "print('kurang dari 3 =', isKurangDari)\n",
        "\n",
        "#---------10+++++\n",
        "#memeriksa angka lebih dari 10\n",
        "isLebihDari = (inputUser > 10)\n",
        "print('lebih dari 10 =', isLebihDari)\n",
        "\n",
        "#tugas \"masukkan angka yang bernilai lebih dari 3 dan kurang dari 10\"\n",
        "\n",
        "#+++++3---------10+++++\n",
        "#gabungkan dengan operasi logika\n",
        "isCorrect = isKurangDari or isLebihDari\n",
        "print('angka yang anda masukkan =', isCorrect)\n",
        "\n",
        "#---------3+++++10---------\n",
        "#kasus irisan (keduanya harus true agar bernilai true)\n",
        "print('\\n',10*'=','\\n')\n",
        "inputUser = float(input('masukkan angka yang bernilai \\nlebih dari 3 \\ndan \\nkurang dari 10 = '))\n",
        "\n",
        "#---------3+++++\n",
        "#memeriksa angka lebih dari 3\n",
        "isLebihDari = (inputUser > 3)\n",
        "print('lebih dari 3 =', isLebihDari)\n",
        "\n",
        "#+++++10---------\n",
        "#memeriksa angka kurang dari 10\n",
        "isKurangDari = (inputUser < 10)\n",
        "print('kurang dari 10 =', isKurangDari)\n",
        "\n",
        "#---------3+++++10---------\n",
        "#gabungkan dengan operasi logika\n",
        "isCorrect = isKurangDari and isLebihDari\n",
        "print('angka yang anda masukkan =', isCorrect)"
      ],
      "metadata": {
        "colab": {
          "base_uri": "https://localhost:8080/"
        },
        "id": "rtY3cAH8KiQC",
        "outputId": "c1bf4f10-b599-477a-b7d7-e75a28d35450"
      },
      "execution_count": null,
      "outputs": [
        {
          "output_type": "stream",
          "name": "stdout",
          "text": [
            "masukkan angka yang bernilai \n",
            "kurang dari 3 \n",
            "atau \n",
            "lebih dari 10 = 5\n",
            "kurang dari 3 = False\n",
            "lebih dari 10 = False\n",
            "angka yang anda masukkan = False\n",
            "\n",
            " ========== \n",
            "\n",
            "masukkan angka yang bernilai \n",
            "lebih dari 3 \n",
            "dan \n",
            "kurang dari 10 = 11\n",
            "lebih dari 3 = True\n",
            "kurang dari 10 = False\n",
            "angka yang anda masukkan = False\n"
          ]
        }
      ]
    },
    {
      "cell_type": "code",
      "source": [
        "#Latihan logika dan komparasi\n",
        "#membuat gabungan area rentang dari angka\n",
        "inputUser = float(input('masukkan angka yang bernilai kurang dari 3 atau lebih dari 10 = '))\n",
        "\n",
        "#+++++3---------\n",
        "#memeriksa angka kurang dari 3\n",
        "isKurangDari = (inputUser < 3)\n",
        "print('kurang dari 3 =', isKurangDari)\n",
        "\n",
        "#---------10+++++\n",
        "#memeriksa angka lebih dari 10\n",
        "isLebihDari = (inputUser > 10)\n",
        "print('lebih dari 10 =', isLebihDari)\n",
        "\n",
        "#+++++3---------10+++++\n",
        "#gabungkan dengan operasi logika\n",
        "isCorrect = isKurangDari or isLebihDari\n",
        "print('angka yang anda masukkan =', isCorrect)"
      ],
      "metadata": {
        "colab": {
          "base_uri": "https://localhost:8080/"
        },
        "id": "_erTVBKEA0Oh",
        "outputId": "f7ad69b8-81e7-4af8-ccc9-487acb0c5bac"
      },
      "execution_count": null,
      "outputs": [
        {
          "output_type": "stream",
          "name": "stdout",
          "text": [
            "masukkan angka yang bernilai kurang dari 3 atau lebih dari 10 = 2\n",
            "kurang dari 3 = True\n",
            "lebih dari 10 = False\n",
            "angka yang anda masukkan = True\n"
          ]
        }
      ]
    },
    {
      "cell_type": "code",
      "source": [
        "#Operator Penugasan (Assignment)\n",
        "print('Operator Penugasan (Assignment)')\n",
        "a = 15\n",
        "\n",
        "#Tambahkan dengan 2\n",
        "a += 2 \n",
        "print(a)\n",
        "\n",
        "#Kurangi 3\n",
        "a -= 3\n",
        "print(a)\n",
        "\n",
        "#Bagi 4\n",
        "a /= 4\n",
        "print(a)\n",
        "\n",
        "#Pangkat\n",
        "a **= 5\n",
        "print(a)\n",
        "\n",
        "#Berapakah nilai sekarang?\n",
        "print('Nilai sekarang :', a)\n"
      ],
      "metadata": {
        "colab": {
          "base_uri": "https://localhost:8080/"
        },
        "id": "GVQ8f7-qYd4O",
        "outputId": "1757282b-79da-4f4b-f2b8-6683260d627a"
      },
      "execution_count": null,
      "outputs": [
        {
          "output_type": "stream",
          "name": "stdout",
          "text": [
            "Operator Penugasan (Assignment)\n",
            "17\n",
            "14\n",
            "3.5\n",
            "525.21875\n",
            "Nilai sekarang : 525.21875\n"
          ]
        }
      ]
    },
    {
      "cell_type": "code",
      "source": [
        "#Operator Keanggotaan\n",
        "#memeriksa keanggotaan dari nilai tertentu di dalam suatu kelompok data\n",
        "print('Operator Keanggotaan')\n",
        "a = [1, 3, 5, 9]\n",
        "b = 3\n",
        "\n",
        "#Operator in\n",
        "print('b in a :', b in a)\n",
        "\n",
        "#Operator not in\n",
        "print('b not in a :', b not in a)"
      ],
      "metadata": {
        "colab": {
          "base_uri": "https://localhost:8080/"
        },
        "id": "ptRDogVqcYWr",
        "outputId": "1919a342-f51d-4419-b7c6-b5944fa1984d"
      },
      "execution_count": null,
      "outputs": [
        {
          "output_type": "stream",
          "name": "stdout",
          "text": [
            "Operator Keanggotaan\n",
            "b in a : True\n",
            "b not in a : False\n"
          ]
        }
      ]
    },
    {
      "cell_type": "code",
      "source": [
        "#Operator Bitwise\n",
        "\n",
        "#biner dari angka 0\n",
        "print(format(0,'08b'))\n",
        "\n",
        "#biner dari angka 1\n",
        "print(format(1,'08b'))\n",
        "\n",
        "#biner dari angka 2\n",
        "print(format(2,'08b'), '\\n')\n",
        "\n",
        "print('Operator Bitwise')\n",
        "a = 1\n",
        "b = 22\n",
        "\n",
        "print('a =', a, '=', format(a, '08b'))\n",
        "print('b =', b, '=', format(b, '08b'), '\\n')\n",
        "\n",
        "print('[and]')\n",
        "print('a & b =', a & b)\n",
        "print(format(a,'08b'), '&', format(b,'08b'),'=', format(a&b,'08b'), '\\n')\n",
        "\n",
        "print('[or]')\n",
        "print('a | b =', a | b)\n",
        "print(format(a,'08b'), '|', format(b,'08b'),'=', format(a|b,'08b'), '\\n')\n",
        "\n",
        "print('[xor]')\n",
        "print('a * b =', a * b)\n",
        "print(format(a,'08b'), '*', format(b,'08b'),'=', format(a*b,'08b'), '\\n')\n",
        "\n",
        "print('[not]')\n",
        "print('~a ~b =', ~a, ~b)\n",
        "print(format(a,'08b'), '~', format(b,'08b'),'=', format(~a,'08b'), format(~b,'08b'), '\\n')\n",
        "\n",
        "print('[shift left]')\n",
        "print('b << a =', b << a)\n",
        "print(format(b,'08b'), '<<', format(b,'08b'),'=', format(b<<a,'08b'), '\\n')\n",
        "\n",
        "print('[shift right]')\n",
        "print('a >> b =', a >> b)\n",
        "print(format(a,'08b'), '>>', format(b,'08b'),'=', format(a>>b,'08b'), '\\n')\n"
      ],
      "metadata": {
        "colab": {
          "base_uri": "https://localhost:8080/"
        },
        "id": "xr0uvXC17TNf",
        "outputId": "b2200fb3-82ff-4dc5-b3b0-7225619c36ef"
      },
      "execution_count": null,
      "outputs": [
        {
          "output_type": "stream",
          "name": "stdout",
          "text": [
            "00000000\n",
            "00000001\n",
            "00000010 \n",
            "\n",
            "Operator Bitwise\n",
            "a = 1 = 00000001\n",
            "b = 22 = 00010110 \n",
            "\n",
            "[and]\n",
            "a & b = 0\n",
            "00000001 & 00010110 = 00000000 \n",
            "\n",
            "[or]\n",
            "a | b = 23\n",
            "00000001 | 00010110 = 00010111 \n",
            "\n",
            "[xor]\n",
            "a * b = 22\n",
            "00000001 * 00010110 = 00010110 \n",
            "\n",
            "[not]\n",
            "~a ~b = -2 -23\n",
            "00000001 ~ 00010110 = -0000010 -0010111 \n",
            "\n",
            "[shift left]\n",
            "b << a = 44\n",
            "00010110 << 00010110 = 00101100 \n",
            "\n",
            "[shift right]\n",
            "a >> b = 0\n",
            "00000001 >> 00010110 = 00000000 \n",
            "\n"
          ]
        }
      ]
    },
    {
      "cell_type": "code",
      "source": [
        "## MENENTUKAN HARI\n",
        "hari=['Senin','Selasa','Rabu','Kamis','Jumat','Sabtu','Minggu']\n",
        "bil=int(input(\"Masukkan angka untuk menentukan hari = \"))\n",
        "if (bil>=1)and(bil<=7):\n",
        "    print('Hari ke ',bil,' adalah hari ',hari[bil-1])\n",
        "else:\n",
        "    print('Hari tidak tersedia')"
      ],
      "metadata": {
        "colab": {
          "base_uri": "https://localhost:8080/"
        },
        "id": "Q2lhwENHnh5J",
        "outputId": "5f618fa0-e36b-44de-c3c6-ea1d5b1918bf"
      },
      "execution_count": null,
      "outputs": [
        {
          "output_type": "stream",
          "name": "stdout",
          "text": [
            "Masukkan angka untuk menentukan hari = 2\n",
            "Hari ke  2  adalah hari  Selasa\n"
          ]
        }
      ]
    },
    {
      "cell_type": "code",
      "source": [
        "import datetime\n",
        "a=datetime.datetime(1993,4,28,1,45,18)\n",
        "print(a.strftime(\"%A\"))\n",
        "print(a.strftime(\"%A\"+\",\"+\"%d\"+\"-\"+\"%B\"+\"-\"+\"%Y\"))\n",
        "print(a.strftime(\"%I\"+\":\"+\"%M\"+\":\"+\"%S\"+\" \"+\"%p\"))"
      ],
      "metadata": {
        "colab": {
          "base_uri": "https://localhost:8080/"
        },
        "id": "Pdxxst_5oFLh",
        "outputId": "fe21ad1b-dbb7-4145-8572-39e8bfbd08c0"
      },
      "execution_count": null,
      "outputs": [
        {
          "output_type": "stream",
          "name": "stdout",
          "text": [
            "Wednesday\n",
            "Wednesday,28-April-1993\n",
            "01:45:18 AM\n"
          ]
        }
      ]
    },
    {
      "cell_type": "code",
      "source": [
        "import calendar\n",
        "#Menentukan Hari Berdasarkan Tanggal,Bulan,Tahun\n",
        "#Dimulai Dari Monday(Senin) = 0 - Sunday(Minggu)= 6\n",
        "\n",
        "print(\"Program Menentukan Hari\")\n",
        "print(\" \")\n",
        "tgl= int(input(\"Masukkan Tanggal : \"))\n",
        "bln= int (input(\"Masukkan Bulan : \"))\n",
        "thn= int(input(\"Masukkan Tahun : \"))\n",
        "hari= calendar.weekday(thn,bln,tgl)\n",
        "print(\" \")\n",
        "if hari == 0:\n",
        "    print(\"Hari Pada Tanggal {} Bulan {} Tahun {} Adalah Senin\".format(tgl,bln,thn))\n",
        "if hari == 1:\n",
        "    print(\"Hari Pada Tanggal {} Bulan {} Tahun {} Adalah Selasa\".format(tgl,bln,thn))\n",
        "if hari == 2:\n",
        "    print(\"Hari Pada Tanggal {} Bulan {} Tahun {} Adalah Rabu\".format(tgl,bln,thn))\n",
        "if hari == 3:\n",
        "    print(\"Hari Pada Tanggal {} Bulan {} Tahun {} Adalah Kamis\".format(tgl,bln,thn))\n",
        "if hari == 4:\n",
        "    print(\"Hari Pada Tanggal {} Bulan {} Tahun {} Adalah Jumat\".format(tgl,bln,thn))\n",
        "if hari == 5:\n",
        "    print(\"Hari Pada Tanggal {} Bulan {} Tahun {} Adalah Sabtu\".format(tgl,bln,thn))\n",
        "if hari == 6:\n",
        "    print(\"Hari Pada Tanggal {} Bulan {} Tahun {} Adalah Minggu\".format(tgl,bln,thn))"
      ],
      "metadata": {
        "colab": {
          "base_uri": "https://localhost:8080/"
        },
        "id": "1soqNCbkoXmq",
        "outputId": "3d61ac82-6b5c-46fa-8cbd-1fb17d17f410"
      },
      "execution_count": null,
      "outputs": [
        {
          "output_type": "stream",
          "name": "stdout",
          "text": [
            "Program Menentukan Hari\n",
            " \n",
            "Masukkan Tanggal : 22\n",
            " \n",
            "Hari Pada Tanggal 22 Bulan 2 Tahun 2023 Adalah Rabu\n"
          ]
        }
      ]
    },
    {
      "cell_type": "code",
      "source": [
        "import calendar\n",
        "#Menentukan Hari Berdasarkan Tanggal,Bulan,Tahun\n",
        "#Dimulai Dari Monday(Senin) = 0 - Sunday(Minggu)= 6\n",
        "#hari=['senin','selasa','rabu','kamis','jumat','sabtu','minggu']\n",
        "print(\"Program Menentukan Hari\")\n",
        "print(\" \")\n",
        "tgl= int(input(\"Masukkan Tanggal : \"))\n",
        "#bln= int (input(\"Masukkan Bulan : \"))\n",
        "#thn= int(input(\"Masukkan Tahun : \"))\n",
        "hari= calendar.weekday(thn,bln,tgl)\n",
        "print(\" \")\n",
        "if hari == 0:\n",
        "    print(\"Hari Pada Tanggal {} Adalah Senin\".format(tgl,bln,thn))\n",
        "if hari == 1:\n",
        "    print(\"Hari Pada Tanggal {} Adalah Selasa\".format(tgl,bln,thn))\n",
        "if hari == 2:\n",
        "    print(\"Hari Pada Tanggal {} Adalah Rabu\".format(tgl,bln,thn))\n",
        "if hari == 3:\n",
        "    print(\"Hari Pada Tanggal {} Adalah Kamis\".format(tgl,bln,thn))\n",
        "if hari == 4:\n",
        "    print(\"Hari Pada Tanggal {} Adalah Jumat\".format(tgl,bln,thn))\n",
        "if hari == 5:\n",
        "    print(\"Hari Pada Tanggal {} Adalah Sabtu\".format(tgl,bln,thn))\n",
        "if hari == 6:\n",
        "    print(\"Hari Pada Tanggal {} Adalah Minggu\".format(tgl,bln,thn))\n"
      ],
      "metadata": {
        "colab": {
          "base_uri": "https://localhost:8080/"
        },
        "id": "bpHF6U4L71bs",
        "outputId": "2ce4fc57-c226-4088-94c9-603e97837d38"
      },
      "execution_count": null,
      "outputs": [
        {
          "output_type": "stream",
          "name": "stdout",
          "text": [
            "Program Menentukan Hari\n",
            " \n",
            "Masukkan Tanggal : 22\n",
            " \n",
            "Hari Pada Tanggal 22 Adalah Rabu\n"
          ]
        }
      ]
    },
    {
      "cell_type": "code",
      "source": [
        "hari=['Senin','Selasa','Rabu','Kamis','Jumat','Sabtu','Minggu']\n",
        "bil=int(input(\"Masukkan angka untuk menentukan hari = \"))\n",
        "if(bil>=1)and(bil<=7):\n",
        "    print ('Hari ke ',bil,' adalah hari ',hari[bil-1])\n",
        "else:\n",
        "    print('Hari tidak tersedia')"
      ],
      "metadata": {
        "colab": {
          "base_uri": "https://localhost:8080/"
        },
        "id": "8JN1xYi29RRI",
        "outputId": "a92ece2e-31a5-4c8c-855e-d113fe1c8ff9"
      },
      "execution_count": null,
      "outputs": [
        {
          "output_type": "stream",
          "name": "stdout",
          "text": [
            "Masukkan angka untuk menentukan hari = 8\n",
            "Hari tidak tersedia\n"
          ]
        }
      ]
    }
  ]
}