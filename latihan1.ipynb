{
  "nbformat": 4,
  "nbformat_minor": 0,
  "metadata": {
    "colab": {
      "provenance": [],
      "authorship_tag": "ABX9TyOjWEe+1c8KxjPeLF0GN7w5",
      "include_colab_link": true
    },
    "kernelspec": {
      "name": "python3",
      "display_name": "Python 3"
    },
    "language_info": {
      "name": "python"
    }
  },
  "cells": [
    {
      "cell_type": "markdown",
      "metadata": {
        "id": "view-in-github",
        "colab_type": "text"
      },
      "source": [
        "<a href=\"https://colab.research.google.com/github/rstvwxyz/dasarpython/blob/main/latihan1.ipynb\" target=\"_parent\"><img src=\"https://colab.research.google.com/assets/colab-badge.svg\" alt=\"Open In Colab\"/></a>"
      ]
    },
    {
      "cell_type": "code",
      "source": [
        "#perintah untuk memasukkan nilai 5 pada variabel x\n",
        "print('Perintah untuk memasukkan nilai 5 pada variabel x')\n",
        "x = 5\n",
        "print(x) #untuk mencetak/menampilkan nilai x dengan fungsi print()"
      ],
      "metadata": {
        "id": "LZ5PR0XqeTju",
        "outputId": "edd9ea26-cc74-48d4-a8b6-c28879656664",
        "colab": {
          "base_uri": "https://localhost:8080/"
        }
      },
      "execution_count": 7,
      "outputs": [
        {
          "output_type": "stream",
          "name": "stdout",
          "text": [
            "Perintah untuk memasukkan nilai 5 pada variabel x\n",
            "5\n"
          ]
        }
      ]
    },
    {
      "cell_type": "code",
      "execution_count": 3,
      "metadata": {
        "colab": {
          "base_uri": "https://localhost:8080/"
        },
        "id": "lE-7oEXmnDbG",
        "outputId": "185b8953-d8cc-4452-e826-559a3bf1aa3c"
      },
      "outputs": [
        {
          "output_type": "stream",
          "name": "stdout",
          "text": [
            "3\n"
          ]
        }
      ],
      "source": [
        "# perintah program/pernyataan (statement)\n",
        "# perintah untuk memasukkan nilai 13 ke dalam variabel a\n",
        "a =  3\n",
        "#perintah untuk menampilkan nilai a dengan fungsi print()\n",
        "print(a)\n"
      ]
    },
    {
      "cell_type": "code",
      "source": [
        "#fungsi print()\n",
        "print(\"Python\")       #str (string)\n",
        "print(3)              #int (integer)\n",
        "print(9.7)            #float\n",
        "print(True)           #bool (boolean)\n",
        "print([1,2,3,4,5])    #list"
      ],
      "metadata": {
        "id": "Rn70kTI5e621",
        "colab": {
          "base_uri": "https://localhost:8080/"
        },
        "outputId": "c286c896-e5f4-4b15-8ed2-9dab92789782"
      },
      "execution_count": 9,
      "outputs": [
        {
          "output_type": "stream",
          "name": "stdout",
          "text": [
            "Python\n",
            "3\n",
            "9.7\n",
            "True\n",
            "[1, 2, 3, 4, 5]\n"
          ]
        }
      ]
    },
    {
      "cell_type": "code",
      "source": [
        "#fungsi input()\n",
        "nama = input('Masukkan nama Anda : ')\n",
        "kelas = input('Masukkan kelas:')"
      ],
      "metadata": {
        "id": "jI9vNR9pgTKI",
        "colab": {
          "base_uri": "https://localhost:8080/"
        },
        "outputId": "c7f1343e-db50-4e41-f15d-97f33de247fc"
      },
      "execution_count": 13,
      "outputs": [
        {
          "name": "stdout",
          "output_type": "stream",
          "text": [
            "Masukkan nama Anda : abriel\n",
            "Masukkan kelas:10 pplg 2\n"
          ]
        }
      ]
    },
    {
      "cell_type": "code",
      "source": [
        "print('MENGHITUNG LUAS & KELILING PERSEGI PANJANG')\n",
        "\n",
        "panjang = float(input('\\nMasukan Panjang: '))\n",
        "lebar = float(input('Masukan Lebar: '))\n",
        "\n",
        "luas = panjang*lebar\n",
        "keliling = 2 * (panjang+lebar)\n",
        "\n",
        "print('\\nLuas Persegi Panjang \\t\\t:',luas)\n",
        "print('Keliling Persegi Panjang\\t:',keliling)"
      ],
      "metadata": {
        "id": "n2Nc2zxshihe",
        "colab": {
          "base_uri": "https://localhost:8080/"
        },
        "outputId": "a319a8d3-76f8-4bbd-c804-f014d8f6d248"
      },
      "execution_count": null,
      "outputs": [
        {
          "output_type": "stream",
          "name": "stdout",
          "text": [
            "MENGHITUNG LUAS & KELILING PERSEGI PANJANG\n",
            "\n",
            "Masukan Panjang: 5\n",
            "Masukan Lebar: 3.5\n",
            "\n",
            "Luas Persegi Panjang \t\t: 17.5\n",
            "Keliling Persegi Panjang\t: 17.0\n"
          ]
        }
      ]
    },
    {
      "cell_type": "code",
      "source": [
        "#menghitung luas dan keliling persegi\n",
        "print('Menghitung Luas dan Keliling Persegi')\n",
        "sisi = int(input('Masukkan panjang sisi : '))\n",
        "luas = sisi*sisi \n",
        "keliling = 4*sisi\n",
        "print('Luas persegi :',luas)\n",
        "print('Keliling persegi :',keliling)"
      ],
      "metadata": {
        "colab": {
          "base_uri": "https://localhost:8080/"
        },
        "id": "C3gsy8kbfrGy",
        "outputId": "3d96c9c0-3b91-40cc-a87b-c6727a786c6d"
      },
      "execution_count": null,
      "outputs": [
        {
          "output_type": "stream",
          "name": "stdout",
          "text": [
            "Menghitung Luas dan Keliling Persegi\n",
            "Masukkan panjang sisi : 4\n",
            "Luas persegi : 16\n",
            "Keliling persegi : 16\n"
          ]
        }
      ]
    },
    {
      "cell_type": "code",
      "source": [
        "  #menghitung luas segitiga\n",
        "  print('Menghitung Luas Segitiga')\n",
        "  alas = 4\n",
        "  tinggi = 5\n",
        "  luas = alas*tinggi/2\n",
        "  print('Alas :',alas)\n",
        "  print('Tinggi :',tinggi)\n",
        "  print('Luas Segitiga :',luas)\n"
      ],
      "metadata": {
        "id": "wNqLWuC8YUKY"
      },
      "execution_count": null,
      "outputs": []
    },
    {
      "cell_type": "code",
      "source": [
        "#menghitung luas dan keliling persegi\n",
        "#nilai sisi disesuaikan dengan no absen\n",
        "sisi = 37\n",
        "luas = sisi*sisi\n",
        "keliling = 4*sisi\n",
        "print('Sisi nya adalah ', sisi)\n",
        "print('Luas Persegi :',luas)\n",
        "print('Keliling persegi :',keliling)"
      ],
      "metadata": {
        "id": "026-aIOsof_l",
        "outputId": "cee3cab1-01ae-49b9-b18f-aa382b9bc7dc",
        "colab": {
          "base_uri": "https://localhost:8080/"
        }
      },
      "execution_count": 16,
      "outputs": [
        {
          "output_type": "stream",
          "name": "stdout",
          "text": [
            "Sisi nya adalah  37\n",
            "Luas Persegi : 1369\n",
            "Keliling persegi : 148\n"
          ]
        }
      ]
    },
    {
      "cell_type": "code",
      "source": [
        "#menghitung luas persegi \n",
        "#masukkan nilai variabel dengan fungsi input()\n",
        "sisi = float(input('Masukkan nilai sisinya '))\n",
        "luas = sisi*sisi\n",
        "print('Luasnya adalah ',luas)"
      ],
      "metadata": {
        "id": "69cP_6PCuDzi",
        "outputId": "a582d394-a444-46e5-8976-26e1392751e2",
        "colab": {
          "base_uri": "https://localhost:8080/"
        }
      },
      "execution_count": 22,
      "outputs": [
        {
          "output_type": "stream",
          "name": "stdout",
          "text": [
            "Masukkan nilai sisinya 5.7\n",
            "Luasnya adalah  32.49\n"
          ]
        }
      ]
    },
    {
      "cell_type": "code",
      "source": [
        "#menghitung luas lingkaran\n",
        "r = float(input('Masukkan jari-jari : '))\n",
        "luas = phi*r*r\n",
        "keliling = 2*phi*r\n",
        "print('Luasnya : ',luas)\n",
        "print('Kelilingnya : ',keliling)"
      ],
      "metadata": {
        "id": "nEuoY92gJN_t",
        "outputId": "33d2cd9d-c645-4d02-8ada-a17feb47c9b0",
        "colab": {
          "base_uri": "https://localhost:8080/"
        }
      },
      "execution_count": null,
      "outputs": [
        {
          "output_type": "stream",
          "name": "stdout",
          "text": [
            "Masukkan jari-jari : 7\n",
            "Luasnya :  153.86\n",
            "Kelilingnya :  43.96\n"
          ]
        }
      ]
    },
    {
      "cell_type": "code",
      "source": [
        "print(\"2+3\")\n",
        "print(2+3)\n",
        "print(\"2\"+\"3\")"
      ],
      "metadata": {
        "id": "JCw4aMu0sf9r",
        "outputId": "4da0e632-0bb0-48a8-fad0-b1348c99e4d1",
        "colab": {
          "base_uri": "https://localhost:8080/"
        }
      },
      "execution_count": null,
      "outputs": [
        {
          "output_type": "stream",
          "name": "stdout",
          "text": [
            "2+3\n",
            "5\n",
            "23\n"
          ]
        }
      ]
    },
    {
      "cell_type": "code",
      "source": [
        "#perintah yang ditulis dalam satu baris\n",
        "#a=13; b=26; c=39\n",
        "a=13\n",
        "b=26\n",
        "c=39\n",
        "print((a*b)-c)"
      ],
      "metadata": {
        "colab": {
          "base_uri": "https://localhost:8080/"
        },
        "id": "efXzojRYuD8H",
        "outputId": "b1e01d77-5aeb-4e25-d093-088534c4dbed"
      },
      "execution_count": null,
      "outputs": [
        {
          "output_type": "stream",
          "name": "stdout",
          "text": [
            "299\n"
          ]
        }
      ]
    },
    {
      "cell_type": "code",
      "source": [
        "#satu perintah yang ditulis dalam dua baris menggunakan operator backslash(/)\n",
        "a=(2*5)\\\n",
        "  /3"
      ],
      "metadata": {
        "id": "W2EVmDBEvGBp"
      },
      "execution_count": null,
      "outputs": []
    },
    {
      "cell_type": "code",
      "source": [
        "#tanda backslash tidak diperlukan jika perintah diawali dengan tanda (,{,[ contoh :\n",
        "mytuple=(\n",
        "    10,20,\n",
        "    30,40,\n",
        "    50,60\n",
        "    )\n",
        "mydict={\n",
        "    'satu':1,\n",
        "    'dua':2,\n",
        "    'tiga':3,\n",
        "}\n",
        "mylist=[\n",
        "    100,200,300\n",
        "]\n",
        "print('{}\\n{}\\n{}'.format(\n",
        "    mytuple,\n",
        "    mylist,\n",
        "    mydict\n",
        "))"
      ],
      "metadata": {
        "colab": {
          "base_uri": "https://localhost:8080/"
        },
        "id": "s4acf_x5nYr_",
        "outputId": "c79aa675-3847-4616-c9a5-4a7ffd039d19"
      },
      "execution_count": null,
      "outputs": [
        {
          "output_type": "stream",
          "name": "stdout",
          "text": [
            "(10, 20, 30, 40, 50, 60)\n",
            "[100, 200, 300]\n",
            "{'satu': 1, 'dua': 2, 'tiga': 3}\n"
          ]
        }
      ]
    },
    {
      "cell_type": "code",
      "source": [
        "#perintah untuk melakukan perulangan menggunakan kata kunci for\n",
        "for i in range(3):\n",
        "  print(i)"
      ],
      "metadata": {
        "colab": {
          "base_uri": "https://localhost:8080/"
        },
        "id": "f4kQLLwLsd9i",
        "outputId": "c247397d-e944-43fc-bc31-b2128809e096"
      },
      "execution_count": null,
      "outputs": [
        {
          "output_type": "stream",
          "name": "stdout",
          "text": [
            "0\n",
            "1\n",
            "2\n"
          ]
        }
      ]
    }
  ]
}