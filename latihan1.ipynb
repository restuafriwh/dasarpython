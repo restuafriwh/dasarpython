{
  "nbformat": 4,
  "nbformat_minor": 0,
  "metadata": {
    "colab": {
      "provenance": [],
      "authorship_tag": "ABX9TyO0qM9RS8T62JAUG1oAdbXE",
      "include_colab_link": true
    },
    "kernelspec": {
      "name": "python3",
      "display_name": "Python 3"
    },
    "language_info": {
      "name": "python"
    }
  },
  "cells": [
    {
      "cell_type": "markdown",
      "metadata": {
        "id": "view-in-github",
        "colab_type": "text"
      },
      "source": [
        "<a href=\"https://colab.research.google.com/github/rstvwxyz/dasarpython/blob/main/latihan1.ipynb\" target=\"_parent\"><img src=\"https://colab.research.google.com/assets/colab-badge.svg\" alt=\"Open In Colab\"/></a>"
      ]
    },
    {
      "cell_type": "code",
      "execution_count": null,
      "metadata": {
        "colab": {
          "base_uri": "https://localhost:8080/"
        },
        "id": "lE-7oEXmnDbG",
        "outputId": "6743396a-9242-418d-aada-cfc5353b7e02"
      },
      "outputs": [
        {
          "output_type": "stream",
          "name": "stdout",
          "text": [
            "3\n"
          ]
        }
      ],
      "source": [
        "# perintah program/pernyataan (statement)\n",
        "# perintah untuk memasukkan nilai 13 ke dalam variabel a\n",
        "a =  3\n",
        "#perintah untuk menampilkan nilai a dengan fungsi print()\n",
        "print(a)\n"
      ]
    },
    {
      "cell_type": "code",
      "source": [
        "print(\"2+3\")"
      ],
      "metadata": {
        "id": "JCw4aMu0sf9r",
        "outputId": "1e02ec61-61f4-41d8-9c58-3ba4707ff982",
        "colab": {
          "base_uri": "https://localhost:8080/"
        }
      },
      "execution_count": 1,
      "outputs": [
        {
          "output_type": "stream",
          "name": "stdout",
          "text": [
            "2+3\n"
          ]
        }
      ]
    },
    {
      "cell_type": "code",
      "source": [
        "print(2+3)"
      ],
      "metadata": {
        "id": "bcwUssH9sul1",
        "outputId": "0ea2d045-0beb-47e4-f04d-e80ab0b26db4",
        "colab": {
          "base_uri": "https://localhost:8080/"
        }
      },
      "execution_count": 2,
      "outputs": [
        {
          "output_type": "stream",
          "name": "stdout",
          "text": [
            "5\n"
          ]
        }
      ]
    },
    {
      "cell_type": "code",
      "source": [
        "print(\"2\"+\"3\")"
      ],
      "metadata": {
        "id": "UIfQaSkOsyCw",
        "outputId": "ecf7ec13-9a4e-4217-d223-4a243ae8b50b",
        "colab": {
          "base_uri": "https://localhost:8080/"
        }
      },
      "execution_count": 3,
      "outputs": [
        {
          "output_type": "stream",
          "name": "stdout",
          "text": [
            "23\n"
          ]
        }
      ]
    },
    {
      "cell_type": "code",
      "source": [
        "#perintah untuk melakukan perulangan menggunakan kata kunci for\n",
        "for i in range(3):\n",
        "  print(i)"
      ],
      "metadata": {
        "colab": {
          "base_uri": "https://localhost:8080/"
        },
        "id": "f4kQLLwLsd9i",
        "outputId": "c247397d-e944-43fc-bc31-b2128809e096"
      },
      "execution_count": null,
      "outputs": [
        {
          "output_type": "stream",
          "name": "stdout",
          "text": [
            "0\n",
            "1\n",
            "2\n"
          ]
        }
      ]
    },
    {
      "cell_type": "code",
      "source": [
        "#perintah yang ditulis dalam satu baris\n",
        "#a=13; b=26; c=39\n",
        "a=13\n",
        "b=26\n",
        "c=39\n",
        "print((a*b)-c)"
      ],
      "metadata": {
        "colab": {
          "base_uri": "https://localhost:8080/"
        },
        "id": "efXzojRYuD8H",
        "outputId": "b1e01d77-5aeb-4e25-d093-088534c4dbed"
      },
      "execution_count": null,
      "outputs": [
        {
          "output_type": "stream",
          "name": "stdout",
          "text": [
            "299\n"
          ]
        }
      ]
    },
    {
      "cell_type": "code",
      "source": [
        "#satu perintah yang ditulis dalam dua baris menggunakan operator backslash(/)\n",
        "a=(2*5)\\\n",
        "  /3"
      ],
      "metadata": {
        "id": "W2EVmDBEvGBp"
      },
      "execution_count": null,
      "outputs": []
    },
    {
      "cell_type": "code",
      "source": [
        "#tanda backslash tidak diperlukan jika perintah diawali dengan tanda (,{,[ contoh :\n",
        "mytuple=(\n",
        "    10,20,\n",
        "    30,40,\n",
        "    50,60\n",
        "    )\n",
        "mydict={\n",
        "    'satu':1,\n",
        "    'dua':2,\n",
        "    'tiga':3,\n",
        "}\n",
        "mylist=[\n",
        "    100,200,300\n",
        "]\n",
        "print('{}\\n{}\\n{}'.format(\n",
        "    mytuple,\n",
        "    mylist,\n",
        "    mydict\n",
        "))"
      ],
      "metadata": {
        "colab": {
          "base_uri": "https://localhost:8080/"
        },
        "id": "s4acf_x5nYr_",
        "outputId": "c79aa675-3847-4616-c9a5-4a7ffd039d19"
      },
      "execution_count": null,
      "outputs": [
        {
          "output_type": "stream",
          "name": "stdout",
          "text": [
            "(10, 20, 30, 40, 50, 60)\n",
            "[100, 200, 300]\n",
            "{'satu': 1, 'dua': 2, 'tiga': 3}\n"
          ]
        }
      ]
    }
  ]
}