{
  "nbformat": 4,
  "nbformat_minor": 0,
  "metadata": {
    "colab": {
      "provenance": [],
      "authorship_tag": "ABX9TyNFws1BvJWN7OWkgOJWu6GF",
      "include_colab_link": true
    },
    "kernelspec": {
      "name": "python3",
      "display_name": "Python 3"
    },
    "language_info": {
      "name": "python"
    }
  },
  "cells": [
    {
      "cell_type": "markdown",
      "metadata": {
        "id": "view-in-github",
        "colab_type": "text"
      },
      "source": [
        "<a href=\"https://colab.research.google.com/github/rstvwxyz/dasarpython/blob/main/latihan1.ipynb\" target=\"_parent\"><img src=\"https://colab.research.google.com/assets/colab-badge.svg\" alt=\"Open In Colab\"/></a>"
      ]
    },
    {
      "cell_type": "code",
      "execution_count": null,
      "metadata": {
        "colab": {
          "base_uri": "https://localhost:8080/"
        },
        "id": "lE-7oEXmnDbG",
        "outputId": "fec164a1-79d3-457f-b8a7-f98c0020bc2d"
      },
      "outputs": [
        {
          "output_type": "stream",
          "name": "stdout",
          "text": [
            "13\n"
          ]
        }
      ],
      "source": [
        "# perintah program/pernyataan (statement)\n",
        "# perintah untuk memasukkan nilai 13 ke dalam variabel a\n",
        "a =  13 \n",
        "print(a)"
      ]
    },
    {
      "cell_type": "code",
      "source": [
        "#perintah untuk memasukkan nilai 5 pada variabel x\n",
        "print('Perintah untuk memasukkan nilai 5 pada variabel x')\n",
        "x = '5'\n",
        "print(x) "
      ],
      "metadata": {
        "id": "LZ5PR0XqeTju",
        "outputId": "3e534006-ce57-401d-f21b-3d89ab383ec0",
        "colab": {
          "base_uri": "https://localhost:8080/"
        }
      },
      "execution_count": 1,
      "outputs": [
        {
          "output_type": "stream",
          "name": "stdout",
          "text": [
            "Perintah untuk memasukkan nilai 5 pada variabel x\n",
            "5\n"
          ]
        }
      ]
    },
    {
      "cell_type": "code",
      "source": [
        "#fungsi print()\n",
        "a = 'Python'\n",
        "b = '3'\n",
        "c = '9.7'\n",
        "\n",
        "print(a)              #str (string)\n",
        "print(b)              #int (integer)\n",
        "print(c)              #float\n",
        "print(True)           #bool (boolean)\n",
        "print([1,2,3,4,5])    #list"
      ],
      "metadata": {
        "id": "Rn70kTI5e621",
        "colab": {
          "base_uri": "https://localhost:8080/"
        },
        "outputId": "597e6464-fd1b-4a90-d8bd-7c280125655e"
      },
      "execution_count": 2,
      "outputs": [
        {
          "output_type": "stream",
          "name": "stdout",
          "text": [
            "Python\n",
            "3\n",
            "9.7\n",
            "True\n",
            "[1, 2, 3, 4, 5]\n"
          ]
        }
      ]
    },
    {
      "cell_type": "code",
      "source": [
        "#fungsi input()\n",
        "nama = input('Masukkan nama Anda : ')\n",
        "kelas = input('Masukkan kelas:')"
      ],
      "metadata": {
        "id": "jI9vNR9pgTKI",
        "colab": {
          "base_uri": "https://localhost:8080/"
        },
        "outputId": "17d37dc5-c03e-4274-8309-0a9fd83af55c"
      },
      "execution_count": null,
      "outputs": [
        {
          "name": "stdout",
          "output_type": "stream",
          "text": [
            "Masukkan nama Anda : restu\n",
            "Masukkan kelas:rpl\n"
          ]
        }
      ]
    },
    {
      "cell_type": "code",
      "source": [
        "ini_variabel1=11        #int\n",
        "ini_variabel2=11.33     #float\n",
        "ini_variabel3=1+4j      #complex number : bilangan real dan imajiner\n",
        "\n",
        "variabel2_int = int(ini_variabel2)\n",
        "\n",
        "print(variabel2_int)\n",
        "print(ini_variabel2)\n",
        "print(ini_variabel3)\n",
        "\n",
        "print('tipe data variabel ini='+str(type(ini_variabel1)))\n",
        "print('tipe data variabel ini='+str(type(ini_variabel2)))\n",
        "print('tipe data variabel ini='+str(type(ini_variabel3)))"
      ],
      "metadata": {
        "colab": {
          "base_uri": "https://localhost:8080/"
        },
        "id": "HnAAe6etzmFq",
        "outputId": "9951601f-8af5-4f73-de8a-2a97f3cf7328"
      },
      "execution_count": null,
      "outputs": [
        {
          "output_type": "stream",
          "name": "stdout",
          "text": [
            "11\n",
            "11.33\n",
            "(1+4j)\n",
            "tipe data variabel ini=<class 'int'>\n",
            "tipe data variabel ini=<class 'float'>\n",
            "tipe data variabel ini=<class 'complex'>\n"
          ]
        }
      ]
    },
    {
      "cell_type": "code",
      "source": [
        "print('MENGHITUNG LUAS & KELILING PERSEGI PANJANG')\n",
        "\n",
        "panjang = float(input('\\nMasukan Panjang: '))\n",
        "lebar = float(input('Masukan Lebar: '))\n",
        "\n",
        "luas = panjang*lebar\n",
        "keliling = 2 * (panjang+lebar)\n",
        "\n",
        "print('\\nLuas Persegi Panjang \\t\\t:',luas)\n",
        "print('Keliling Persegi Panjang\\t:',keliling)"
      ],
      "metadata": {
        "id": "n2Nc2zxshihe",
        "colab": {
          "base_uri": "https://localhost:8080/"
        },
        "outputId": "a319a8d3-76f8-4bbd-c804-f014d8f6d248"
      },
      "execution_count": null,
      "outputs": [
        {
          "output_type": "stream",
          "name": "stdout",
          "text": [
            "MENGHITUNG LUAS & KELILING PERSEGI PANJANG\n",
            "\n",
            "Masukan Panjang: 5\n",
            "Masukan Lebar: 3.5\n",
            "\n",
            "Luas Persegi Panjang \t\t: 17.5\n",
            "Keliling Persegi Panjang\t: 17.0\n"
          ]
        }
      ]
    },
    {
      "cell_type": "code",
      "source": [
        "#menghitung luas dan keliling persegi\n",
        "print('Menghitung Luas dan Keliling Persegi')\n",
        "sisi = int(input('Masukkan panjang sisi : '))\n",
        "luas = sisi*sisi \n",
        "keliling = 4*sisi\n",
        "print('Luas persegi :',luas)\n",
        "print('Keliling persegi :',keliling)"
      ],
      "metadata": {
        "colab": {
          "base_uri": "https://localhost:8080/"
        },
        "id": "C3gsy8kbfrGy",
        "outputId": "3d96c9c0-3b91-40cc-a87b-c6727a786c6d"
      },
      "execution_count": null,
      "outputs": [
        {
          "output_type": "stream",
          "name": "stdout",
          "text": [
            "Menghitung Luas dan Keliling Persegi\n",
            "Masukkan panjang sisi : 4\n",
            "Luas persegi : 16\n",
            "Keliling persegi : 16\n"
          ]
        }
      ]
    },
    {
      "cell_type": "code",
      "source": [
        "  #menghitung luas segitiga\n",
        "  print('Menghitung Luas Segitiga')\n",
        "  alas = 4\n",
        "  tinggi = 5\n",
        "  luas = alas*tinggi/2\n",
        "  print('Alas :',alas)\n",
        "  print('Tinggi :',tinggi)\n",
        "  print('Luas Segitiga :',luas)\n"
      ],
      "metadata": {
        "id": "wNqLWuC8YUKY",
        "colab": {
          "base_uri": "https://localhost:8080/"
        },
        "outputId": "77d504bb-4bc0-453e-b672-a26262f88165"
      },
      "execution_count": null,
      "outputs": [
        {
          "output_type": "stream",
          "name": "stdout",
          "text": [
            "Menghitung Luas Segitiga\n",
            "Alas : 4\n",
            "Tinggi : 5\n",
            "Luas Segitiga : 10.0\n"
          ]
        }
      ]
    },
    {
      "cell_type": "code",
      "source": [
        "#menghitung luas persegi panjang\n",
        "print('menghitung luas persegi panjang')\n",
        "panjang = 8\n",
        "lebar = 4\n",
        "luas = panjang*lebar\n",
        "print('panjang:',panjang)\n",
        "print('lebar:',lebar)\n",
        "print('luas persegi panjang:',luas)"
      ],
      "metadata": {
        "colab": {
          "base_uri": "https://localhost:8080/"
        },
        "id": "YMmTvADdhSuT",
        "outputId": "d8f48ed8-1fed-499d-86f1-ddead23b44a7"
      },
      "execution_count": null,
      "outputs": [
        {
          "output_type": "stream",
          "name": "stdout",
          "text": [
            "menghitung luas persegi panjang\n",
            "panjang: 8\n",
            "lebar: 4\n",
            "luas persegi panjang: 32\n"
          ]
        }
      ]
    },
    {
      "cell_type": "code",
      "source": [
        "#menghitung luas dan keliling persegi\n",
        "#nilai sisi disesuaikan dengan no absen\n",
        "sisi = 37\n",
        "luas = sisi*sisi\n",
        "keliling = 4*sisi\n",
        "print('Sisi nya adalah ', sisi)\n",
        "print('Luas Persegi :',luas)\n",
        "print('Keliling persegi :',keliling)"
      ],
      "metadata": {
        "id": "026-aIOsof_l",
        "outputId": "cee3cab1-01ae-49b9-b18f-aa382b9bc7dc",
        "colab": {
          "base_uri": "https://localhost:8080/"
        }
      },
      "execution_count": null,
      "outputs": [
        {
          "output_type": "stream",
          "name": "stdout",
          "text": [
            "Sisi nya adalah  37\n",
            "Luas Persegi : 1369\n",
            "Keliling persegi : 148\n"
          ]
        }
      ]
    },
    {
      "cell_type": "code",
      "source": [
        "#menghitung luas persegi \n",
        "#masukkan nilai variabel dengan fungsi input()\n",
        "sisi = float(input('Masukkan nilai sisinya '))\n",
        "luas = sisi*sisi\n",
        "print('Luasnya adalah ',luas)"
      ],
      "metadata": {
        "id": "69cP_6PCuDzi",
        "outputId": "a582d394-a444-46e5-8976-26e1392751e2",
        "colab": {
          "base_uri": "https://localhost:8080/"
        }
      },
      "execution_count": null,
      "outputs": [
        {
          "output_type": "stream",
          "name": "stdout",
          "text": [
            "Masukkan nilai sisinya 5.7\n",
            "Luasnya adalah  32.49\n"
          ]
        }
      ]
    },
    {
      "cell_type": "code",
      "source": [
        "#menghitung luas lingkaran\n",
        "r = float(input('Masukkan jari-jari : '))\n",
        "luas = phi*r*r\n",
        "keliling = 2*phi*r\n",
        "print('Luasnya : ',luas)\n",
        "print('Kelilingnya : ',keliling)"
      ],
      "metadata": {
        "id": "nEuoY92gJN_t",
        "outputId": "33d2cd9d-c645-4d02-8ada-a17feb47c9b0",
        "colab": {
          "base_uri": "https://localhost:8080/"
        }
      },
      "execution_count": null,
      "outputs": [
        {
          "output_type": "stream",
          "name": "stdout",
          "text": [
            "Masukkan jari-jari : 7\n",
            "Luasnya :  153.86\n",
            "Kelilingnya :  43.96\n"
          ]
        }
      ]
    },
    {
      "cell_type": "code",
      "source": [
        "print(\"2+3\")\n",
        "print(2+3)\n",
        "print(\"2\"+\"3\")"
      ],
      "metadata": {
        "id": "JCw4aMu0sf9r",
        "outputId": "4da0e632-0bb0-48a8-fad0-b1348c99e4d1",
        "colab": {
          "base_uri": "https://localhost:8080/"
        }
      },
      "execution_count": null,
      "outputs": [
        {
          "output_type": "stream",
          "name": "stdout",
          "text": [
            "2+3\n",
            "5\n",
            "23\n"
          ]
        }
      ]
    },
    {
      "cell_type": "code",
      "source": [
        "#perintah yang ditulis dalam satu baris\n",
        "#a=13; b=26; c=39\n",
        "a=13\n",
        "b=26\n",
        "c=39\n",
        "print((a*b)-c)"
      ],
      "metadata": {
        "colab": {
          "base_uri": "https://localhost:8080/"
        },
        "id": "efXzojRYuD8H",
        "outputId": "b1e01d77-5aeb-4e25-d093-088534c4dbed"
      },
      "execution_count": null,
      "outputs": [
        {
          "output_type": "stream",
          "name": "stdout",
          "text": [
            "299\n"
          ]
        }
      ]
    },
    {
      "cell_type": "code",
      "source": [
        "#satu perintah yang ditulis dalam dua baris menggunakan operator backslash(/)\n",
        "a=(2*5)\\\n",
        "  /3"
      ],
      "metadata": {
        "id": "W2EVmDBEvGBp"
      },
      "execution_count": null,
      "outputs": []
    },
    {
      "cell_type": "code",
      "source": [
        "#tanda backslash tidak diperlukan jika perintah diawali dengan tanda (,{,[ contoh :\n",
        "mytuple=(\n",
        "    10,20,\n",
        "    30,40,\n",
        "    50,60\n",
        "    )\n",
        "mydict={\n",
        "    'satu':1,\n",
        "    'dua':2,\n",
        "    'tiga':3,\n",
        "}\n",
        "mylist=[\n",
        "    100,200,300\n",
        "]\n",
        "print('{}\\n{}\\n{}'.format(\n",
        "    mytuple,\n",
        "    mylist,\n",
        "    mydict\n",
        "))"
      ],
      "metadata": {
        "colab": {
          "base_uri": "https://localhost:8080/"
        },
        "id": "s4acf_x5nYr_",
        "outputId": "c79aa675-3847-4616-c9a5-4a7ffd039d19"
      },
      "execution_count": null,
      "outputs": [
        {
          "output_type": "stream",
          "name": "stdout",
          "text": [
            "(10, 20, 30, 40, 50, 60)\n",
            "[100, 200, 300]\n",
            "{'satu': 1, 'dua': 2, 'tiga': 3}\n"
          ]
        }
      ]
    },
    {
      "cell_type": "code",
      "source": [
        "#perintah untuk melakukan perulangan menggunakan kata kunci for\n",
        "for i in range(3):\n",
        "  print(i)"
      ],
      "metadata": {
        "colab": {
          "base_uri": "https://localhost:8080/"
        },
        "id": "f4kQLLwLsd9i",
        "outputId": "c247397d-e944-43fc-bc31-b2128809e096"
      },
      "execution_count": null,
      "outputs": [
        {
          "output_type": "stream",
          "name": "stdout",
          "text": [
            "0\n",
            "1\n",
            "2\n"
          ]
        }
      ]
    }
  ]
}