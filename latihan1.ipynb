{
  "nbformat": 4,
  "nbformat_minor": 0,
  "metadata": {
    "colab": {
      "provenance": [],
      "authorship_tag": "ABX9TyMV0XZXrP2ltykaQRNcqOEx",
      "include_colab_link": true
    },
    "kernelspec": {
      "name": "python3",
      "display_name": "Python 3"
    },
    "language_info": {
      "name": "python"
    }
  },
  "cells": [
    {
      "cell_type": "markdown",
      "metadata": {
        "id": "view-in-github",
        "colab_type": "text"
      },
      "source": [
        "<a href=\"https://colab.research.google.com/github/restuafriwh/dasarpython/blob/main/latihan1.ipynb\" target=\"_parent\"><img src=\"https://colab.research.google.com/assets/colab-badge.svg\" alt=\"Open In Colab\"/></a>"
      ]
    },
    {
      "cell_type": "code",
      "execution_count": 1,
      "metadata": {
        "colab": {
          "base_uri": "https://localhost:8080/"
        },
        "id": "lE-7oEXmnDbG",
        "outputId": "8185975b-bd1f-4de7-c33c-25b153ee2c5c"
      },
      "outputs": [
        {
          "output_type": "stream",
          "name": "stdout",
          "text": [
            "3\n"
          ]
        }
      ],
      "source": [
        "# perintah program/pernyataan (statement)\n",
        "# perintah untuk memasukkan nilai 13 ke dalam variabel a\n",
        "a =  3\n",
        "print(a)"
      ]
    },
    {
      "cell_type": "code",
      "source": [],
      "metadata": {
        "id": "f4kQLLwLsd9i"
      },
      "execution_count": null,
      "outputs": []
    },
    {
      "cell_type": "code",
      "source": [
        "mytuple=(\n",
        "    10,20,\n",
        "    30,40,\n",
        "    50,60\n",
        "    )\n",
        "mydict={\n",
        "    'satu':1,\n",
        "    'dua':2,\n",
        "    'tiga':3,\n",
        "}\n",
        "mylist=[\n",
        "    100,200,300\n",
        "]\n",
        "print('{}\\n{}\\n{}'.format(\n",
        "    mytuple,\n",
        "    mylist,\n",
        "    mydict\n",
        "))"
      ],
      "metadata": {
        "colab": {
          "base_uri": "https://localhost:8080/"
        },
        "id": "s4acf_x5nYr_",
        "outputId": "6bf44eb9-43b0-4dee-a5d2-90450824afbe"
      },
      "execution_count": null,
      "outputs": [
        {
          "output_type": "stream",
          "name": "stdout",
          "text": [
            "(10, 20, 30, 40, 50, 60)\n",
            "[100, 200, 300]\n",
            "{'satu': 1, 'dua': 2, 'tiga': 3}\n"
          ]
        }
      ]
    }
  ]
}