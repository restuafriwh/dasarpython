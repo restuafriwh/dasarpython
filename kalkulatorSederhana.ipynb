{
  "nbformat": 4,
  "nbformat_minor": 0,
  "metadata": {
    "colab": {
      "provenance": [],
      "authorship_tag": "ABX9TyOhVkMsfTvsL9nh0EQeHVtz",
      "include_colab_link": true
    },
    "kernelspec": {
      "name": "python3",
      "display_name": "Python 3"
    },
    "language_info": {
      "name": "python"
    }
  },
  "cells": [
    {
      "cell_type": "markdown",
      "metadata": {
        "id": "view-in-github",
        "colab_type": "text"
      },
      "source": [
        "<a href=\"https://colab.research.google.com/github/rstvwxyz/dasarpython/blob/main/kalkulatorSederhana.ipynb\" target=\"_parent\"><img src=\"https://colab.research.google.com/assets/colab-badge.svg\" alt=\"Open In Colab\"/></a>"
      ]
    },
    {
      "cell_type": "markdown",
      "source": [
        "Buatlah program Kalkulator Sederhana yang dapat melakukan operasi penjumlahan, pengurangan, perkalian, pembagian dan pangkat antara dua bilangan bulat atau desimal"
      ],
      "metadata": {
        "id": "wGy34JxtQSH-"
      }
    },
    {
      "cell_type": "code",
      "source": [
        "print('Program Kalkulator Sederhana')\n",
        "print('-------------------------------')\n",
        "print('')\n",
        "\n",
        "bil1 = float(input('Masukkan bilangan 1 = '))\n",
        "bil2 = float(input('Masukkan bilangan 2 = '))\n",
        "operator = input('Pilih operator (+, -, *, /, **) = ')\n",
        "\n",
        "tambah = bil1 + bil2\n",
        "kurang = bil1 - bil2\n",
        "kali = bil1 * bil2\n",
        "bagi = bil1 / bil2\n",
        "pangkat = bil1 ** bil2\n",
        "\n",
        "if operator == '+':\n",
        "  print('Hasil Penjumlahan = ', tambah)\n",
        "elif operator == '-':\n",
        "  print('Hasil Pengurangan = ', kurang)\n",
        "elif operator == '*':\n",
        "  print('Hasil Perkalian = ', kali)\n",
        "elif operator == '/':\n",
        "  print('Hasil Pembagiian = ', bagi)\n",
        "elif operator == '**':\n",
        "  print('Hasil Perpangkatan = ', pangkat)\n",
        "else:\n",
        "  print('Operator tidak valid')"
      ],
      "metadata": {
        "colab": {
          "base_uri": "https://localhost:8080/"
        },
        "id": "f96v5vzNVek6",
        "outputId": "1fad4017-16cd-4af2-c87b-aff64de27a02"
      },
      "execution_count": null,
      "outputs": [
        {
          "output_type": "stream",
          "name": "stdout",
          "text": [
            "Program Kalkulator Sederhana\n",
            "-------------------------------\n",
            "\n",
            "Masukkan bilangan 1 = 7\n",
            "Masukkan bilangan 2 = 8\n",
            "Pilih operator (+, -, *, /, **) = ^\n",
            "Operator tidak valid\n"
          ]
        }
      ]
    }
  ]
}