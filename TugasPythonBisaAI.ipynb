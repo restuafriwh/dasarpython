{
  "nbformat": 4,
  "nbformat_minor": 0,
  "metadata": {
    "colab": {
      "provenance": [],
      "authorship_tag": "ABX9TyOWdewANzvvDnM5t7uuqVbI",
      "include_colab_link": true
    },
    "kernelspec": {
      "name": "python3",
      "display_name": "Python 3"
    },
    "language_info": {
      "name": "python"
    }
  },
  "cells": [
    {
      "cell_type": "markdown",
      "metadata": {
        "id": "view-in-github",
        "colab_type": "text"
      },
      "source": [
        "<a href=\"https://colab.research.google.com/github/rstvwxyz/dasarpython/blob/main/TugasPythonBisaAI.ipynb\" target=\"_parent\"><img src=\"https://colab.research.google.com/assets/colab-badge.svg\" alt=\"Open In Colab\"/></a>"
      ]
    },
    {
      "cell_type": "code",
      "execution_count": null,
      "metadata": {
        "colab": {
          "base_uri": "https://localhost:8080/"
        },
        "id": "VnhJosbsISnZ",
        "outputId": "bc1ad91e-9430-4cf2-f66a-55d698f2b13c"
      },
      "outputs": [
        {
          "output_type": "stream",
          "name": "stdout",
          "text": [
            "Masukkan Nilai n : 5\n",
            "5! = 120\n"
          ]
        }
      ],
      "source": [
        "n = int(input('Masukkan Nilai n : '))\n",
        "faktorial = 1\n",
        "\n",
        "for i in range(1, n+1):\n",
        "  faktorial *=i\n",
        "\n",
        "print(f'{n}! = {faktorial}')"
      ]
    },
    {
      "cell_type": "code",
      "source": [
        "n = int(input('Masukkan Nilai n : '))\n",
        "\n",
        "def hitung_faktorial (n):\n",
        "  if (n>2):\n",
        "    return n * hitung_faktorial(n-1)\n",
        "  else:\n",
        "    return 2\n",
        "\n",
        "faktorial = hitung_faktorial(n)\n",
        "print(f'{n}! = {faktorial}')"
      ],
      "metadata": {
        "colab": {
          "base_uri": "https://localhost:8080/"
        },
        "id": "mNdgOY9qKcAj",
        "outputId": "dd77b109-be91-4d85-c114-3a40210cf112"
      },
      "execution_count": null,
      "outputs": [
        {
          "output_type": "stream",
          "name": "stdout",
          "text": [
            "Masukkan Nilai n : 5\n",
            "5! = 120\n"
          ]
        }
      ]
    },
    {
      "cell_type": "code",
      "source": [
        "n = int(input('Masukkan Nilai n : '))\n",
        "\n",
        "def hitung_faktor (n):\n",
        "  angka_faktor = []\n",
        "  for i in range (1, n+1):\n",
        "    if n % i == 0:\n",
        "      angka_faktor.append(i)\n",
        "    else:\n",
        "      return angka_faktor\n",
        "\n",
        "faktor = hitung_faktor(n)\n",
        "print(f'Faktor dari {n} : ', faktor)"
      ],
      "metadata": {
        "id": "e7TIwilvOC4E",
        "colab": {
          "base_uri": "https://localhost:8080/",
          "height": 133
        },
        "outputId": "eb2daf54-208a-4297-fbb3-fe7b2b4e4117"
      },
      "execution_count": null,
      "outputs": [
        {
          "output_type": "error",
          "ename": "IndentationError",
          "evalue": "ignored",
          "traceback": [
            "\u001b[0;36m  File \u001b[0;32m\"<ipython-input-26-30adb39db34c>\"\u001b[0;36m, line \u001b[0;32m8\u001b[0m\n\u001b[0;31m    print(f'Faktor dari {n} : ', faktor)\u001b[0m\n\u001b[0m                                        ^\u001b[0m\n\u001b[0;31mIndentationError\u001b[0m\u001b[0;31m:\u001b[0m expected an indented block\n"
          ]
        }
      ]
    },
    {
      "cell_type": "code",
      "source": [
        "def faktor_bilangan(n):\n",
        "  for"
      ],
      "metadata": {
        "id": "8E6HqigGbaor"
      },
      "execution_count": null,
      "outputs": []
    }
  ]
}