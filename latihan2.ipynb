{
  "nbformat": 4,
  "nbformat_minor": 0,
  "metadata": {
    "colab": {
      "provenance": [],
      "authorship_tag": "ABX9TyMmcTNDBakgC/c68hCFCs/o",
      "include_colab_link": true
    },
    "kernelspec": {
      "name": "python3",
      "display_name": "Python 3"
    },
    "language_info": {
      "name": "python"
    }
  },
  "cells": [
    {
      "cell_type": "markdown",
      "metadata": {
        "id": "view-in-github",
        "colab_type": "text"
      },
      "source": [
        "<a href=\"https://colab.research.google.com/github/rstvwxyz/dasarpython/blob/main/latihan2.ipynb\" target=\"_parent\"><img src=\"https://colab.research.google.com/assets/colab-badge.svg\" alt=\"Open In Colab\"/></a>"
      ]
    },
    {
      "cell_type": "code",
      "execution_count": 1,
      "metadata": {
        "id": "tzpcVZizw1pz",
        "outputId": "3eef0e0b-0557-498c-cdd2-de61a5aea6b2",
        "colab": {
          "base_uri": "https://localhost:8080/"
        }
      },
      "outputs": [
        {
          "output_type": "stream",
          "name": "stdout",
          "text": [
            "1\n"
          ]
        }
      ],
      "source": [
        "a=1\n",
        "print(a)"
      ]
    },
    {
      "cell_type": "code",
      "source": [
        "#menghitung luas persegi panjang\n",
        "p=8\n",
        "l=5\n",
        "luas=p*l\n",
        "print('panjangnya :',p)\n",
        "print('lebarnya :',l)\n",
        "print('luasnya :',luas)"
      ],
      "metadata": {
        "id": "YEHDah84yLmC",
        "outputId": "6a331033-9ba5-42ed-d8d2-bc69119f2626",
        "colab": {
          "base_uri": "https://localhost:8080/"
        }
      },
      "execution_count": 3,
      "outputs": [
        {
          "output_type": "stream",
          "name": "stdout",
          "text": [
            "panjangnya : 8\n",
            "lebarnya : 5\n",
            "luasnya : 40\n"
          ]
        }
      ]
    },
    {
      "cell_type": "code",
      "source": [
        "#menghitung luas persegi panjang\n",
        "panjang = float(input('masukkan panjang '))\n",
        "lebar = float(input('masukkan lebar '))\n",
        "luas = panjang*lebar\n",
        "print('luasnya adalah',luas)"
      ],
      "metadata": {
        "id": "VB0RaUsdyr27",
        "outputId": "88852fbc-4f5a-4cd9-cfd5-5c9cb4f74a98",
        "colab": {
          "base_uri": "https://localhost:8080/"
        }
      },
      "execution_count": 5,
      "outputs": [
        {
          "output_type": "stream",
          "name": "stdout",
          "text": [
            "masukkan panjang 7.8\n",
            "masukkan lebar 3.5\n",
            "luasnya adalah 27.3\n"
          ]
        }
      ]
    }
  ]
}