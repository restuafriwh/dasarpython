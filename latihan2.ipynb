{
  "nbformat": 4,
  "nbformat_minor": 0,
  "metadata": {
    "colab": {
      "provenance": [],
      "authorship_tag": "ABX9TyPCvMfwPE5KltujAw2+NbV/",
      "include_colab_link": true
    },
    "kernelspec": {
      "name": "python3",
      "display_name": "Python 3"
    },
    "language_info": {
      "name": "python"
    }
  },
  "cells": [
    {
      "cell_type": "markdown",
      "metadata": {
        "id": "view-in-github",
        "colab_type": "text"
      },
      "source": [
        "<a href=\"https://colab.research.google.com/github/rstvwxyz/dasarpython/blob/main/latihan2.ipynb\" target=\"_parent\"><img src=\"https://colab.research.google.com/assets/colab-badge.svg\" alt=\"Open In Colab\"/></a>"
      ]
    },
    {
      "cell_type": "code",
      "execution_count": null,
      "metadata": {
        "id": "tzpcVZizw1pz",
        "outputId": "3eef0e0b-0557-498c-cdd2-de61a5aea6b2",
        "colab": {
          "base_uri": "https://localhost:8080/"
        }
      },
      "outputs": [
        {
          "output_type": "stream",
          "name": "stdout",
          "text": [
            "1\n"
          ]
        }
      ],
      "source": [
        "a=1\n",
        "print(a)"
      ]
    },
    {
      "cell_type": "code",
      "source": [
        "#menghitung luas persegi panjang\n",
        "p=8\n",
        "l=5\n",
        "luas=p*l\n",
        "print('panjangnya :',p)\n",
        "print('lebarnya :',l)\n",
        "print('luasnya :',luas)"
      ],
      "metadata": {
        "id": "YEHDah84yLmC",
        "outputId": "6a331033-9ba5-42ed-d8d2-bc69119f2626",
        "colab": {
          "base_uri": "https://localhost:8080/"
        }
      },
      "execution_count": null,
      "outputs": [
        {
          "output_type": "stream",
          "name": "stdout",
          "text": [
            "panjangnya : 8\n",
            "lebarnya : 5\n",
            "luasnya : 40\n"
          ]
        }
      ]
    },
    {
      "cell_type": "code",
      "source": [
        "#menghitung luas persegi panjang\n",
        "panjang = float(input('masukkan panjang '))\n",
        "lebar = float(input('masukkan lebar '))\n",
        "luas = panjang*lebar\n",
        "print('luasnya adalah',luas)"
      ],
      "metadata": {
        "id": "VB0RaUsdyr27",
        "outputId": "88852fbc-4f5a-4cd9-cfd5-5c9cb4f74a98",
        "colab": {
          "base_uri": "https://localhost:8080/"
        }
      },
      "execution_count": null,
      "outputs": [
        {
          "output_type": "stream",
          "name": "stdout",
          "text": [
            "masukkan panjang 7.8\n",
            "masukkan lebar 3.5\n",
            "luasnya adalah 27.3\n"
          ]
        }
      ]
    },
    {
      "cell_type": "code",
      "source": [
        "def myfunc():\n",
        " global x\n",
        "x = \"fantastic\"\n",
        "myfunc()\n",
        "print(\"Python is \" + x)\n"
      ],
      "metadata": {
        "id": "W28S4xmhq7Ju",
        "outputId": "781af7f7-bf33-4161-e404-85b97a5e332b",
        "colab": {
          "base_uri": "https://localhost:8080/"
        }
      },
      "execution_count": 1,
      "outputs": [
        {
          "output_type": "stream",
          "name": "stdout",
          "text": [
            "Python is fantastic\n"
          ]
        }
      ]
    },
    {
      "cell_type": "code",
      "source": [
        "nama = \"Demplon\"\n",
        "print(\"Nama Kamu Adalah \" + nama)\n",
        "print(\"Nama Kamu Adalah \", nama)"
      ],
      "metadata": {
        "id": "iPeFTbsjrLRF",
        "outputId": "1c4ce3e0-8ef2-4b6e-81b7-edbd4da5356f",
        "colab": {
          "base_uri": "https://localhost:8080/"
        }
      },
      "execution_count": 1,
      "outputs": [
        {
          "output_type": "stream",
          "name": "stdout",
          "text": [
            "Nama Kamu Adalah Demplon\n",
            "Nama Kamu Adalah  Demplon\n"
          ]
        }
      ]
    },
    {
      "cell_type": "code",
      "source": [
        "myvar = \"Fahra Ragita Musyafa\"\n",
        "my_var = \"Fahra Ragita Musyafa\"\n",
        "_my_var = \"Fahra Ragita Musyafa\"\n",
        "myVar = \"Fahra Ragita Musyafa\"\n",
        "MYVAR = \"Fahra Ragita Musyafa\"\n",
        "myvar2 = \"Fahra Ragita Musyafa\"\n",
        "my_var = \"Fahra Ragita Musyafa\"\n",
        "_my_var = \"Fahra Ragita Musyafa\"\n",
        "myVar = \"Fahra Ragita Musyafa\"\n",
        "MYVAR = \"Fahra Ragita Musyafa\"\n",
        "myvar2 = \"Fahra Ragita Musyafa\"\n"
      ],
      "metadata": {
        "id": "PEIlMeyOrpbU"
      },
      "execution_count": 7,
      "outputs": []
    },
    {
      "cell_type": "code",
      "source": [
        "#contoh if else\n",
        "nilai=3\n",
        "if(nilai>7):\n",
        "  print('selamat kita lulus')\n",
        "else:\n",
        "  print('maaf kita tidak lulus')"
      ],
      "metadata": {
        "id": "1h7G0PYsuibD",
        "outputId": "06737faa-f4ce-465a-a291-c4b8378294ba",
        "colab": {
          "base_uri": "https://localhost:8080/"
        }
      },
      "execution_count": 4,
      "outputs": [
        {
          "output_type": "stream",
          "name": "stdout",
          "text": [
            "maaf kita tidak lulus\n"
          ]
        }
      ]
    }
  ]
}