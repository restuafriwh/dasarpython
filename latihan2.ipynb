{
  "nbformat": 4,
  "nbformat_minor": 0,
  "metadata": {
    "colab": {
      "provenance": [],
      "authorship_tag": "ABX9TyONW4F/3zKJ25GDSOwKxOoL",
      "include_colab_link": true
    },
    "kernelspec": {
      "name": "python3",
      "display_name": "Python 3"
    },
    "language_info": {
      "name": "python"
    }
  },
  "cells": [
    {
      "cell_type": "markdown",
      "metadata": {
        "id": "view-in-github",
        "colab_type": "text"
      },
      "source": [
        "<a href=\"https://colab.research.google.com/github/rstvwxyz/dasarpython/blob/main/latihan2.ipynb\" target=\"_parent\"><img src=\"https://colab.research.google.com/assets/colab-badge.svg\" alt=\"Open In Colab\"/></a>"
      ]
    },
    {
      "cell_type": "code",
      "execution_count": null,
      "metadata": {
        "id": "tzpcVZizw1pz",
        "outputId": "3eef0e0b-0557-498c-cdd2-de61a5aea6b2",
        "colab": {
          "base_uri": "https://localhost:8080/"
        }
      },
      "outputs": [
        {
          "output_type": "stream",
          "name": "stdout",
          "text": [
            "1\n"
          ]
        }
      ],
      "source": [
        "a=1\n",
        "print(a)"
      ]
    },
    {
      "cell_type": "code",
      "source": [
        "#menghitung luas persegi panjang\n",
        "p=8\n",
        "l=5\n",
        "luas=p*l\n",
        "print('panjangnya :',p)\n",
        "print('lebarnya :',l)\n",
        "print('luasnya :',luas)"
      ],
      "metadata": {
        "id": "YEHDah84yLmC",
        "outputId": "6a331033-9ba5-42ed-d8d2-bc69119f2626",
        "colab": {
          "base_uri": "https://localhost:8080/"
        }
      },
      "execution_count": null,
      "outputs": [
        {
          "output_type": "stream",
          "name": "stdout",
          "text": [
            "panjangnya : 8\n",
            "lebarnya : 5\n",
            "luasnya : 40\n"
          ]
        }
      ]
    },
    {
      "cell_type": "code",
      "source": [
        "#menghitung luas persegi panjang\n",
        "panjang = float(input('masukkan panjang '))\n",
        "lebar = float(input('masukkan lebar '))\n",
        "luas = panjang*lebar\n",
        "print('luasnya adalah',luas)"
      ],
      "metadata": {
        "id": "VB0RaUsdyr27",
        "outputId": "88852fbc-4f5a-4cd9-cfd5-5c9cb4f74a98",
        "colab": {
          "base_uri": "https://localhost:8080/"
        }
      },
      "execution_count": null,
      "outputs": [
        {
          "output_type": "stream",
          "name": "stdout",
          "text": [
            "masukkan panjang 7.8\n",
            "masukkan lebar 3.5\n",
            "luasnya adalah 27.3\n"
          ]
        }
      ]
    },
    {
      "cell_type": "code",
      "source": [
        "def myfunc():\n",
        " global x\n",
        "x = \"fantastic\"\n",
        "myfunc()\n",
        "print(\"Python is \" + x)\n"
      ],
      "metadata": {
        "colab": {
          "base_uri": "https://localhost:8080/"
        },
        "id": "W28S4xmhq7Ju",
        "outputId": "781af7f7-bf33-4161-e404-85b97a5e332b"
      },
      "execution_count": null,
      "outputs": [
        {
          "output_type": "stream",
          "name": "stdout",
          "text": [
            "Python is fantastic\n"
          ]
        }
      ]
    },
    {
      "cell_type": "code",
      "source": [
        "nama = \"Demplon\"\n",
        "print(\"Nama Kamu Adalah \" + nama)\n",
        "print(\"Nama Kamu Adalah\",nama)"
      ],
      "metadata": {
        "colab": {
          "base_uri": "https://localhost:8080/"
        },
        "id": "iPeFTbsjrLRF",
        "outputId": "e34e3906-435f-4195-b359-14342a66fa8f"
      },
      "execution_count": null,
      "outputs": [
        {
          "output_type": "stream",
          "name": "stdout",
          "text": [
            "Nama Kamu Adalah Demplon\n",
            "Nama Kamu Adalah Demplon\n"
          ]
        }
      ]
    },
    {
      "cell_type": "code",
      "source": [
        "#penulisan variabel\n",
        "myvar = \"Fahra Ragita Musyafa\"\n",
        "my_var = \"Fahra Ragita Musyafa\"\n",
        "_my_var = \"Fahra Ragita Musyafa\"\n",
        "myVar = \"Fahra Ragita Musyafa\"\n",
        "MYVAR = \"Fahra Ragita Musyafa\"\n",
        "myvar2 = \"Fahra Ragita Musyafa\"\n"
      ],
      "metadata": {
        "id": "PEIlMeyOrpbU"
      },
      "execution_count": null,
      "outputs": []
    },
    {
      "cell_type": "code",
      "source": [
        "#contoh if else\n",
        "nilai=3\n",
        "if(nilai>7):\n",
        "  print('selamat kita lulus')\n",
        "else:\n",
        "  print('maaf kita tidak lulus')"
      ],
      "metadata": {
        "colab": {
          "base_uri": "https://localhost:8080/"
        },
        "id": "1h7G0PYsuibD",
        "outputId": "06737faa-f4ce-465a-a291-c4b8378294ba"
      },
      "execution_count": null,
      "outputs": [
        {
          "output_type": "stream",
          "name": "stdout",
          "text": [
            "maaf kita tidak lulus\n"
          ]
        }
      ]
    },
    {
      "cell_type": "code",
      "source": [
        "x = 3\n",
        "y = 'kelas'\n",
        "print(x)\n",
        "print(y)"
      ],
      "metadata": {
        "id": "2x-uEIp42mon",
        "outputId": "190a6579-b90f-43ab-8bf3-d8963d8b4497",
        "colab": {
          "base_uri": "https://localhost:8080/"
        }
      },
      "execution_count": null,
      "outputs": [
        {
          "output_type": "stream",
          "name": "stdout",
          "text": [
            "3\n",
            "kelas\n"
          ]
        }
      ]
    },
    {
      "cell_type": "code",
      "source": [
        "gorengan = [\"Bala Bala\", \"Gehu\", \"Comro\"]\n",
        "x, y, z = gorengan\n",
        "print(x)\n",
        "print(y)\n",
        "print(z)"
      ],
      "metadata": {
        "id": "ggoG7S7J3Dfk",
        "outputId": "d73138db-ef73-4368-8a05-d5eeee1d6dcb",
        "colab": {
          "base_uri": "https://localhost:8080/"
        }
      },
      "execution_count": null,
      "outputs": [
        {
          "output_type": "stream",
          "name": "stdout",
          "text": [
            "Bala Bala\n",
            "Gehu\n",
            "Comro\n"
          ]
        }
      ]
    },
    {
      "cell_type": "code",
      "source": [
        "#Cetak Data (print)\n",
        "print(\"2+3\")\n",
        "print(2+3)\n",
        "print(\"2\"+\"3\")"
      ],
      "metadata": {
        "id": "HGgF4bBkATbO",
        "outputId": "a35aea58-6e81-42a4-80c9-5af5e16a5b9c",
        "colab": {
          "base_uri": "https://localhost:8080/"
        }
      },
      "execution_count": 3,
      "outputs": [
        {
          "output_type": "stream",
          "name": "stdout",
          "text": [
            "2+3\n",
            "5\n",
            "23\n"
          ]
        }
      ]
    },
    {
      "cell_type": "code",
      "source": [
        "#Pemberian Nilai Data (Assignment)\n",
        "bil1 = 10\n",
        "bil2 = 5\n",
        "jumlah = bil1 + bil2\n",
        "jumlah"
      ],
      "metadata": {
        "id": "RTdhvXhuBM4E",
        "outputId": "1642d5ed-4ca6-4131-865e-17706782f5cc",
        "colab": {
          "base_uri": "https://localhost:8080/"
        }
      },
      "execution_count": 9,
      "outputs": [
        {
          "output_type": "execute_result",
          "data": {
            "text/plain": [
              "15"
            ]
          },
          "metadata": {},
          "execution_count": 9
        }
      ]
    },
    {
      "cell_type": "code",
      "source": [
        "bil1 = 10\n",
        "print(bil1)\n",
        "bil1 = 5\n",
        "print(bil1)"
      ],
      "metadata": {
        "id": "y4YIuLNoCBy8",
        "outputId": "efa240d9-9ac6-4c20-cf3d-90718bd2ef5d",
        "colab": {
          "base_uri": "https://localhost:8080/"
        }
      },
      "execution_count": 16,
      "outputs": [
        {
          "output_type": "stream",
          "name": "stdout",
          "text": [
            "10\n",
            "5\n"
          ]
        }
      ]
    },
    {
      "cell_type": "code",
      "source": [
        "bil1 = 10\n",
        "bil2 = 5\n",
        "bil2\n",
        "jumlah = bil1 + bil2\n",
        "jumlah"
      ],
      "metadata": {
        "id": "iDB5i0A1DwZ3",
        "outputId": "b1104f2c-6f34-40f8-ede5-5b0a83bc7ff2",
        "colab": {
          "base_uri": "https://localhost:8080/"
        }
      },
      "execution_count": 15,
      "outputs": [
        {
          "output_type": "execute_result",
          "data": {
            "text/plain": [
              "15"
            ]
          },
          "metadata": {},
          "execution_count": 15
        }
      ]
    },
    {
      "cell_type": "code",
      "source": [
        "#Banyak Nilai untuk Satu Variabel (Array)\n",
        "data = [10,9,7,8,10,8]\n",
        "print(data[1])\n",
        "data[2] = 10\n",
        "print(data)\n",
        "data.append(9)\n",
        "print(data)"
      ],
      "metadata": {
        "id": "wUWGtoLLC8X4",
        "outputId": "f2c3de4f-44b5-4d0e-ca2a-3cd28e06d238",
        "colab": {
          "base_uri": "https://localhost:8080/"
        }
      },
      "execution_count": 12,
      "outputs": [
        {
          "output_type": "stream",
          "name": "stdout",
          "text": [
            "9\n",
            "[10, 9, 10, 8, 10, 8]\n",
            "[10, 9, 10, 8, 10, 8, 9]\n"
          ]
        }
      ]
    },
    {
      "cell_type": "code",
      "source": [
        "#Penelusuran Data/Pengulangan (Loop: for)\n",
        "data = [10,9,7,8,10,8]\n",
        "indeks = 0\n",
        "for elemen in data:\n",
        "    print(\"Elemen ke \", indeks, \"=\", elemen)\n",
        "    indeks = indeks + 1"
      ],
      "metadata": {
        "id": "yWQ8H_CFDbHp",
        "outputId": "d4e0a6a8-ff38-495c-a423-63f0545190b4",
        "colab": {
          "base_uri": "https://localhost:8080/"
        }
      },
      "execution_count": 32,
      "outputs": [
        {
          "output_type": "stream",
          "name": "stdout",
          "text": [
            "Elemen ke  0 = 10\n",
            "Elemen ke  1 = 9\n",
            "Elemen ke  2 = 7\n",
            "Elemen ke  3 = 8\n",
            "Elemen ke  4 = 10\n",
            "Elemen ke  5 = 8\n"
          ]
        }
      ]
    },
    {
      "cell_type": "code",
      "source": [
        "#Uji Kondisi (Branch:try)\n",
        "data = [10, 9, \"cindi\", 4, \"8\"]\n",
        "for x in data:\n",
        "  print(x/2)\n"
      ],
      "metadata": {
        "id": "5Gj-ApWAGj7F",
        "outputId": "b1845499-5bda-4086-ff1e-06468045e5b1",
        "colab": {
          "base_uri": "https://localhost:8080/",
          "height": 235
        }
      },
      "execution_count": 41,
      "outputs": [
        {
          "output_type": "stream",
          "name": "stdout",
          "text": [
            "5.0\n",
            "4.5\n"
          ]
        },
        {
          "output_type": "error",
          "ename": "TypeError",
          "evalue": "ignored",
          "traceback": [
            "\u001b[0;31m---------------------------------------------------------------------------\u001b[0m",
            "\u001b[0;31mTypeError\u001b[0m                                 Traceback (most recent call last)",
            "\u001b[0;32m<ipython-input-41-cbaa46eefbcf>\u001b[0m in \u001b[0;36m<module>\u001b[0;34m\u001b[0m\n\u001b[1;32m      2\u001b[0m \u001b[0mdata\u001b[0m \u001b[0;34m=\u001b[0m \u001b[0;34m[\u001b[0m\u001b[0;36m10\u001b[0m\u001b[0;34m,\u001b[0m \u001b[0;36m9\u001b[0m\u001b[0;34m,\u001b[0m \u001b[0;34m\"cindi\"\u001b[0m\u001b[0;34m,\u001b[0m \u001b[0;36m4\u001b[0m\u001b[0;34m,\u001b[0m \u001b[0;34m\"8\"\u001b[0m\u001b[0;34m]\u001b[0m\u001b[0;34m\u001b[0m\u001b[0;34m\u001b[0m\u001b[0m\n\u001b[1;32m      3\u001b[0m \u001b[0;32mfor\u001b[0m \u001b[0mx\u001b[0m \u001b[0;32min\u001b[0m \u001b[0mdata\u001b[0m\u001b[0;34m:\u001b[0m\u001b[0;34m\u001b[0m\u001b[0;34m\u001b[0m\u001b[0m\n\u001b[0;32m----> 4\u001b[0;31m   \u001b[0mprint\u001b[0m\u001b[0;34m(\u001b[0m\u001b[0mx\u001b[0m\u001b[0;34m/\u001b[0m\u001b[0;36m2\u001b[0m\u001b[0;34m)\u001b[0m\u001b[0;34m\u001b[0m\u001b[0;34m\u001b[0m\u001b[0m\n\u001b[0m",
            "\u001b[0;31mTypeError\u001b[0m: unsupported operand type(s) for /: 'str' and 'int'"
          ]
        }
      ]
    },
    {
      "cell_type": "code",
      "source": [
        "data = [10, 9, \"Cindi\", 4, \"8\"]\n",
        "for x in data:\n",
        "  try:\n",
        "    print(x / 2)\n",
        "  except:\n",
        "    print(\"Bukan bilangan\")"
      ],
      "metadata": {
        "id": "j3QUl8IdJHmN",
        "outputId": "6a75369e-b153-416a-e7f7-5f2f21644f66",
        "colab": {
          "base_uri": "https://localhost:8080/"
        }
      },
      "execution_count": 43,
      "outputs": [
        {
          "output_type": "stream",
          "name": "stdout",
          "text": [
            "5.0\n",
            "4.5\n",
            "Bukan bilangan\n",
            "2.0\n",
            "Bukan bilangan\n"
          ]
        }
      ]
    }
  ]
}